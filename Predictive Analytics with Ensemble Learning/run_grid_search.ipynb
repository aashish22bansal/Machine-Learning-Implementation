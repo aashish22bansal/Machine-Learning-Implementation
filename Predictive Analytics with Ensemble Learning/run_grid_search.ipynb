{
 "cells": [
  {
   "cell_type": "markdown",
   "id": "b908d114",
   "metadata": {},
   "source": [
    "# Import Libraries"
   ]
  },
  {
   "cell_type": "code",
   "execution_count": 1,
   "id": "640b371b",
   "metadata": {},
   "outputs": [],
   "source": [
    "import numpy as np\n",
    "import matplotlib.pyplot as plt\n",
    "from sklearn.metrics import classification_report\n",
    "from sklearn import model_selection\n",
    "from sklearn.ensemble import ExtraTreesClassifier"
   ]
  },
  {
   "cell_type": "code",
   "execution_count": 2,
   "id": "66a4e1bf",
   "metadata": {},
   "outputs": [],
   "source": [
    "from utilities import visualize_classifier"
   ]
  },
  {
   "cell_type": "markdown",
   "id": "d1154df0",
   "metadata": {},
   "source": [
    "# Load input data"
   ]
  },
  {
   "cell_type": "code",
   "execution_count": 3,
   "id": "06fefbb3",
   "metadata": {},
   "outputs": [],
   "source": [
    "input_file = 'data_random_forests.txt'\n",
    "data = np.loadtxt(input_file, delimiter=',')\n",
    "X, y = data[:, :-1], data[:, -1]"
   ]
  },
  {
   "cell_type": "markdown",
   "id": "df8e435f",
   "metadata": {},
   "source": [
    "# Separate input data into three classes based on labels"
   ]
  },
  {
   "cell_type": "code",
   "execution_count": 4,
   "id": "b19b7dfc",
   "metadata": {},
   "outputs": [],
   "source": [
    "class_0 = np.array(X[y==0])\n",
    "class_1 = np.array(X[y==1])\n",
    "class_2 = np.array(X[y==2])"
   ]
  },
  {
   "cell_type": "markdown",
   "id": "26360b49",
   "metadata": {},
   "source": [
    "# Split the data into training and testing datasets "
   ]
  },
  {
   "cell_type": "code",
   "execution_count": 5,
   "id": "1056c76d",
   "metadata": {},
   "outputs": [],
   "source": [
    "X_train, X_test, y_train, y_test = model_selection.train_test_split(\n",
    "    X, y, test_size=0.25, random_state=5\n",
    ")"
   ]
  },
  {
   "cell_type": "markdown",
   "id": "5d7cd754",
   "metadata": {},
   "source": [
    "# Define the parameter grid "
   ]
  },
  {
   "cell_type": "code",
   "execution_count": 6,
   "id": "4314edcb",
   "metadata": {},
   "outputs": [],
   "source": [
    "parameter_grid = [ \n",
    "    {'n_estimators': [100], 'max_depth': [2, 4, 7, 12, 16]},\n",
    "    {'max_depth': [4], 'n_estimators': [25, 50, 100, 250]}\n",
    "]"
   ]
  },
  {
   "cell_type": "code",
   "execution_count": 7,
   "id": "238a93f9",
   "metadata": {},
   "outputs": [],
   "source": [
    "metrics = ['precision_weighted', 'recall_weighted']"
   ]
  },
  {
   "cell_type": "code",
   "execution_count": null,
   "id": "50406819",
   "metadata": {},
   "outputs": [
    {
     "name": "stdout",
     "output_type": "stream",
     "text": [
      "\n",
      "##### Searching optimal parameters for precision_weighted\n",
      "\n",
      "Grid scores for the parameter grid:\n",
      "0.850 for {'max_depth': 2, 'n_estimators': 100}\n",
      "0.841 for {'max_depth': 4, 'n_estimators': 100}\n",
      "0.844 for {'max_depth': 7, 'n_estimators': 100}\n",
      "0.832 for {'max_depth': 12, 'n_estimators': 100}\n",
      "0.816 for {'max_depth': 16, 'n_estimators': 100}\n",
      "0.846 for {'max_depth': 4, 'n_estimators': 25}\n",
      "0.840 for {'max_depth': 4, 'n_estimators': 50}\n",
      "0.841 for {'max_depth': 4, 'n_estimators': 100}\n",
      "0.845 for {'max_depth': 4, 'n_estimators': 250}\n",
      "\n",
      "Best parameters: {'max_depth': 2, 'n_estimators': 100}\n",
      "\n",
      "Performance report:\n",
      "\n",
      "              precision    recall  f1-score   support\n",
      "\n",
      "         0.0       0.94      0.81      0.87        79\n",
      "         1.0       0.81      0.86      0.83        70\n",
      "         2.0       0.83      0.91      0.87        76\n",
      "\n",
      "    accuracy                           0.86       225\n",
      "   macro avg       0.86      0.86      0.86       225\n",
      "weighted avg       0.86      0.86      0.86       225\n",
      "\n",
      "\n",
      "##### Searching optimal parameters for recall_weighted\n",
      "\n",
      "Grid scores for the parameter grid:\n",
      "0.843 for {'max_depth': 2, 'n_estimators': 100}\n",
      "0.837 for {'max_depth': 4, 'n_estimators': 100}\n",
      "0.841 for {'max_depth': 7, 'n_estimators': 100}\n",
      "0.830 for {'max_depth': 12, 'n_estimators': 100}\n",
      "0.815 for {'max_depth': 16, 'n_estimators': 100}\n",
      "0.843 for {'max_depth': 4, 'n_estimators': 25}\n",
      "0.836 for {'max_depth': 4, 'n_estimators': 50}\n",
      "0.837 for {'max_depth': 4, 'n_estimators': 100}\n",
      "0.841 for {'max_depth': 4, 'n_estimators': 250}\n",
      "\n",
      "Best parameters: {'max_depth': 2, 'n_estimators': 100}\n",
      "\n",
      "Performance report:\n",
      "\n",
      "              precision    recall  f1-score   support\n",
      "\n",
      "         0.0       0.94      0.81      0.87        79\n",
      "         1.0       0.81      0.86      0.83        70\n",
      "         2.0       0.83      0.91      0.87        76\n",
      "\n",
      "    accuracy                           0.86       225\n",
      "   macro avg       0.86      0.86      0.86       225\n",
      "weighted avg       0.86      0.86      0.86       225\n",
      "\n"
     ]
    }
   ],
   "source": [
    "for metric in metrics:\n",
    "    print(\"\\n##### Searching optimal parameters for\", metric)\n",
    "\n",
    "    classifier = model_selection.GridSearchCV(\n",
    "        ExtraTreesClassifier(random_state=0), \n",
    "        parameter_grid, \n",
    "        cv=5, \n",
    "        scoring=metric\n",
    "    )\n",
    "    classifier.fit(X_train, y_train)\n",
    "\n",
    "    print(\"\\nGrid scores for the parameter grid:\")\n",
    "    # for params, avg_score, _ in classifier.grid_scores_:\n",
    "    #     print(params, '-->', round(avg_score, 3))\n",
    "    for mean, params in zip(classifier.cv_results_['mean_test_score'], classifier.cv_results_['params']):\n",
    "        print(f\"{mean:.3f} for {params}\")\n",
    "    \n",
    "    print(\"\\nBest parameters:\", classifier.best_params_)\n",
    "\n",
    "    y_pred = classifier.predict(X_test)\n",
    "    print(\"\\nPerformance report:\\n\")\n",
    "    print(classification_report(y_test, y_pred))"
   ]
  }
 ],
 "metadata": {
  "kernelspec": {
   "display_name": "venv",
   "language": "python",
   "name": "python3"
  },
  "language_info": {
   "codemirror_mode": {
    "name": "ipython",
    "version": 3
   },
   "file_extension": ".py",
   "mimetype": "text/x-python",
   "name": "python",
   "nbconvert_exporter": "python",
   "pygments_lexer": "ipython3",
   "version": "3.13.2"
  }
 },
 "nbformat": 4,
 "nbformat_minor": 5
}
