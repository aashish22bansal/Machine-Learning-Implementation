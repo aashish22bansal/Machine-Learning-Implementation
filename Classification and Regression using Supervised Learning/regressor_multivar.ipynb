{
 "cells": [
  {
   "cell_type": "code",
   "execution_count": null,
   "id": "2b686e16",
   "metadata": {},
   "outputs": [],
   "source": [
    "import numpy as np\n",
    "from sklearn import linear_model\n",
    "import sklearn.metrics as sm\n",
    "from sklearn.preprocessing import PolynomialFeatures"
   ]
  },
  {
   "cell_type": "markdown",
   "id": "5bfaa36d",
   "metadata": {},
   "source": [
    "# Input file containing data"
   ]
  },
  {
   "cell_type": "code",
   "execution_count": null,
   "id": "37cf36e9",
   "metadata": {},
   "outputs": [],
   "source": [
    "input_file = 'data_multivar_regr.txt'"
   ]
  },
  {
   "cell_type": "markdown",
   "id": "9d0526b7",
   "metadata": {},
   "source": [
    "# Load the data from the input file"
   ]
  },
  {
   "cell_type": "code",
   "execution_count": null,
   "id": "5082fa07",
   "metadata": {},
   "outputs": [],
   "source": [
    "data = np.loadtxt(input_file, delimiter=',')\n",
    "X, y = data[:, :-1], data[:, -1]"
   ]
  },
  {
   "cell_type": "markdown",
   "id": "bf6ed451",
   "metadata": {},
   "source": [
    "# Split data into training and testing "
   ]
  },
  {
   "cell_type": "code",
   "execution_count": null,
   "id": "4333185e",
   "metadata": {},
   "outputs": [],
   "source": [
    "num_training = int(0.8 * len(X))\n",
    "num_test = len(X) - num_training"
   ]
  },
  {
   "cell_type": "markdown",
   "id": "b1b26396",
   "metadata": {},
   "source": [
    "# Training data"
   ]
  },
  {
   "cell_type": "code",
   "execution_count": null,
   "id": "adce32b5",
   "metadata": {},
   "outputs": [],
   "source": [
    "X_train, y_train = X[:num_training], y[:num_training]"
   ]
  },
  {
   "cell_type": "markdown",
   "id": "b483dcd8",
   "metadata": {},
   "source": [
    "# Test data"
   ]
  },
  {
   "cell_type": "code",
   "execution_count": null,
   "id": "d34fc801",
   "metadata": {},
   "outputs": [],
   "source": [
    "X_test, y_test = X[num_training:], y[num_training:]"
   ]
  },
  {
   "cell_type": "markdown",
   "id": "1870a5cb",
   "metadata": {},
   "source": [
    "# Create the linear regressor model"
   ]
  },
  {
   "cell_type": "code",
   "execution_count": null,
   "id": "856cfef2",
   "metadata": {},
   "outputs": [],
   "source": [
    "linear_regressor = linear_model.LinearRegression()"
   ]
  },
  {
   "cell_type": "markdown",
   "id": "ab03507f",
   "metadata": {},
   "source": [
    "# Train the model using the training sets"
   ]
  },
  {
   "cell_type": "code",
   "execution_count": null,
   "id": "77dadb59",
   "metadata": {},
   "outputs": [],
   "source": [
    "linear_regressor.fit(X_train, y_train)"
   ]
  },
  {
   "cell_type": "markdown",
   "id": "9372ecb0",
   "metadata": {},
   "source": [
    "# Predict the output"
   ]
  },
  {
   "cell_type": "code",
   "execution_count": null,
   "id": "6372b8c0",
   "metadata": {},
   "outputs": [],
   "source": [
    "y_test_pred = linear_regressor.predict(X_test)"
   ]
  },
  {
   "cell_type": "markdown",
   "id": "7bb8c408",
   "metadata": {},
   "source": [
    "# Measure performance"
   ]
  },
  {
   "cell_type": "code",
   "execution_count": null,
   "id": "652986c4",
   "metadata": {},
   "outputs": [],
   "source": [
    "print(\"Linear Regressor performance:\")\n",
    "print(\"Mean absolute error =\", round(sm.mean_absolute_error(y_test, y_test_pred), 2))\n",
    "print(\"Mean squared error =\", round(sm.mean_squared_error(y_test, y_test_pred), 2))\n",
    "print(\"Median absolute error =\", round(sm.median_absolute_error(y_test, y_test_pred), 2))\n",
    "print(\"Explained variance score =\", round(sm.explained_variance_score(y_test, y_test_pred), 2))\n",
    "print(\"R2 score =\", round(sm.r2_score(y_test, y_test_pred), 2))"
   ]
  },
  {
   "cell_type": "markdown",
   "id": "16dabe86",
   "metadata": {},
   "source": [
    "# Polynomial regression"
   ]
  },
  {
   "cell_type": "code",
   "execution_count": null,
   "id": "4d7bb750",
   "metadata": {},
   "outputs": [],
   "source": [
    "polynomial = PolynomialFeatures(degree=10)\n",
    "X_train_transformed = polynomial.fit_transform(X_train)\n",
    "datapoint = [[7.75, 6.35, 5.56]]\n",
    "poly_datapoint = polynomial.fit_transform(datapoint)"
   ]
  },
  {
   "cell_type": "code",
   "execution_count": null,
   "id": "5a112997",
   "metadata": {},
   "outputs": [],
   "source": [
    "poly_linear_model = linear_model.LinearRegression()\n",
    "poly_linear_model.fit(X_train_transformed, y_train)\n",
    "print(\"\\nLinear regression:\\n\", linear_regressor.predict(datapoint))\n",
    "print(\"\\nPolynomial regression:\\n\", poly_linear_model.predict(poly_datapoint))"
   ]
  }
 ],
 "metadata": {
  "language_info": {
   "name": "python"
  }
 },
 "nbformat": 4,
 "nbformat_minor": 5
}
