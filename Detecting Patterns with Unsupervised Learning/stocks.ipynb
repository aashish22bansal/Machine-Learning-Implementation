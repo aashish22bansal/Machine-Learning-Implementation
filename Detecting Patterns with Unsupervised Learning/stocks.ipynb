{
 "cells": [
  {
   "cell_type": "markdown",
   "id": "1c8f7984",
   "metadata": {},
   "source": [
    "# **Finding subgroups in stock market using Affinity Propagation model**\n",
    "**Affinity Propagation** is a clustering algorithm that doesn't require us to specify the number of clusters beforehand. Because of its generic nature and simplicity of implementation, it has found a lot of applications across many fields. It finds out representatives of clusters, called exemplars, using a technique called message passing. We start by specifying the measures of similarity that we want it to consider. It simultaneously considers all training data points as potential exemplars. It then passes messages between the data points until it finds a set of exemplars.\n",
    "\n",
    "The message passing happens in two alternate steps, called responsibility and availability. Responsibility refers to the message sent from members of the cluster to candidate exemplars, indicating how well suited the data point would be as a member of this exemplar's cluster. Availability refers to the message sent from candidate exemplars to potential members of the cluster, indicating how well suited it would be as an exemplar. It keeps doing this until the algorithm converges on an optimal set of exemplars.\n",
    "\n",
    "There is also a parameter called preference that controls the number of exemplars that will be found. If you choose a high value, then it will cause the algorithm to find too many clusters. If you choose a low value, then it will lead to a small number of clusters. A good value to choose would be the median similarity between the points.\n",
    "\n",
    "Let's use Affinity Propagation model to find subgroups in the stock market. We will beusing the stock quote variation between opening and closing as the governing feature."
   ]
  },
  {
   "cell_type": "code",
   "execution_count": 4,
   "id": "1e77d149",
   "metadata": {},
   "outputs": [],
   "source": [
    "import datetime\n",
    "import json"
   ]
  },
  {
   "cell_type": "code",
   "execution_count": 24,
   "id": "0e26024d",
   "metadata": {},
   "outputs": [],
   "source": [
    "import os"
   ]
  },
  {
   "cell_type": "code",
   "execution_count": 5,
   "id": "dc5e7343",
   "metadata": {},
   "outputs": [],
   "source": [
    "import numpy as np\n",
    "import matplotlib.pyplot as plt\n",
    "from sklearn import covariance, cluster\n",
    "# from matplotlib.finance imMport quotes_historical_yahoo_ochl as quotes_yahoo"
   ]
  },
  {
   "cell_type": "code",
   "execution_count": 16,
   "id": "433f7164",
   "metadata": {},
   "outputs": [],
   "source": [
    "import yfinance as yf\n",
    "import mplfinance as mpf"
   ]
  },
  {
   "cell_type": "code",
   "execution_count": 6,
   "id": "cb35ae3b",
   "metadata": {},
   "outputs": [],
   "source": [
    "from mplfinance.original_flavor import candlestick_ohlc"
   ]
  },
  {
   "cell_type": "markdown",
   "id": "eedc4e18",
   "metadata": {},
   "source": [
    "# Input file containing company symbols \n",
    "We will be using the stock market data available in ```matplotlib```. The company symbols are mapped to their full names in the file ```company_symbol_mapping.json```:"
   ]
  },
  {
   "cell_type": "code",
   "execution_count": 7,
   "id": "86d9c06b",
   "metadata": {},
   "outputs": [],
   "source": [
    "input_file = 'company_symbol_mapping.json'"
   ]
  },
  {
   "cell_type": "markdown",
   "id": "c9b8443c",
   "metadata": {},
   "source": [
    "# Load the company symbol map"
   ]
  },
  {
   "cell_type": "code",
   "execution_count": 8,
   "id": "a78abf22",
   "metadata": {},
   "outputs": [],
   "source": [
    "with open(input_file, 'r') as f:\n",
    "    company_symbols_map = json.loads(f.read())"
   ]
  },
  {
   "cell_type": "code",
   "execution_count": 9,
   "id": "19e105e2",
   "metadata": {},
   "outputs": [],
   "source": [
    "symbols, names = np.array(list(company_symbols_map.items())).T"
   ]
  },
  {
   "cell_type": "code",
   "execution_count": 10,
   "id": "1fd90d2f",
   "metadata": {},
   "outputs": [
    {
     "data": {
      "text/plain": [
       "array(['TOT', 'XOM', 'CVX', 'COP', 'VLO', 'MSFT', 'IBM', 'TWX', 'CMCSA',\n",
       "       'CVC', 'YHOO', 'DELL', 'HPQ', 'AMZN', 'TM', 'CAJ', 'MTU', 'SNE',\n",
       "       'F', 'HMC', 'NAV', 'NOC', 'BA', 'KO', 'MMM', 'MCD', 'PEP', 'MDLZ',\n",
       "       'K', 'UN', 'MAR', 'PG', 'CL', 'GE', 'WFC', 'JPM', 'AIG', 'AXP',\n",
       "       'BAC', 'GS', 'AAPL', 'SAP', 'CSCO', 'TXN', 'XRX', 'LMT', 'WMT',\n",
       "       'WBA', 'HD', 'GSK', 'PFE', 'SNY', 'NVS', 'KMB', 'R', 'GD', 'RTN',\n",
       "       'CVS', 'CAT', 'DD'], dtype='<U17')"
      ]
     },
     "execution_count": 10,
     "metadata": {},
     "output_type": "execute_result"
    }
   ],
   "source": [
    "symbols"
   ]
  },
  {
   "cell_type": "code",
   "execution_count": 11,
   "id": "b87e04bb",
   "metadata": {},
   "outputs": [
    {
     "data": {
      "text/plain": [
       "array(['Total', 'Exxon', 'Chevron', 'ConocoPhillips', 'Valero Energy',\n",
       "       'Microsoft', 'IBM', 'Time Warner', 'Comcast', 'Cablevision',\n",
       "       'Yahoo', 'Dell', 'HP', 'Amazon', 'Toyota', 'Canon', 'Mitsubishi',\n",
       "       'Sony', 'Ford', 'Honda', 'Navistar', 'Northrop Grumman', 'Boeing',\n",
       "       'Coca Cola', '3M', 'Mc Donalds', 'Pepsi', 'Kraft Foods', 'Kellogg',\n",
       "       'Unilever', 'Marriott', 'Procter Gamble', 'Colgate-Palmolive',\n",
       "       'General Electrics', 'Wells Fargo', 'JPMorgan Chase', 'AIG',\n",
       "       'American express', 'Bank of America', 'Goldman Sachs', 'Apple',\n",
       "       'SAP', 'Cisco', 'Texas instruments', 'Xerox', 'Lookheed Martin',\n",
       "       'Wal-Mart', 'Walgreen', 'Home Depot', 'GlaxoSmithKline', 'Pfizer',\n",
       "       'Sanofi-Aventis', 'Novartis', 'Kimberly-Clark', 'Ryder',\n",
       "       'General Dynamics', 'Raytheon', 'CVS', 'Caterpillar',\n",
       "       'DuPont de Nemours'], dtype='<U17')"
      ]
     },
     "execution_count": 11,
     "metadata": {},
     "output_type": "execute_result"
    }
   ],
   "source": [
    "names"
   ]
  },
  {
   "cell_type": "markdown",
   "id": "f3759c85",
   "metadata": {},
   "source": [
    "# Load the historical stock quotes \n",
    "Load the stock quotes from matplotlib:"
   ]
  },
  {
   "cell_type": "code",
   "execution_count": 12,
   "id": "c8b9334b",
   "metadata": {},
   "outputs": [],
   "source": [
    "start_date = datetime.datetime(2003, 7, 3)\n",
    "end_date = datetime.datetime(2007, 5, 4)"
   ]
  },
  {
   "cell_type": "code",
   "execution_count": null,
   "id": "adefd7aa",
   "metadata": {},
   "outputs": [
    {
     "ename": "NameError",
     "evalue": "name 'quotes_yahoo' is not defined",
     "output_type": "error",
     "traceback": [
      "\u001b[31m---------------------------------------------------------------------------\u001b[39m",
      "\u001b[31mNameError\u001b[39m                                 Traceback (most recent call last)",
      "\u001b[36mCell\u001b[39m\u001b[36m \u001b[39m\u001b[32mIn[17]\u001b[39m\u001b[32m, line 1\u001b[39m\n\u001b[32m----> \u001b[39m\u001b[32m1\u001b[39m quotes = [\u001b[43mquotes_yahoo\u001b[49m(symbol, start_date, end_date, asobject=\u001b[38;5;28;01mTrue\u001b[39;00m) \n\u001b[32m      2\u001b[39m                 \u001b[38;5;28;01mfor\u001b[39;00m symbol \u001b[38;5;129;01min\u001b[39;00m symbols]\n",
      "\u001b[31mNameError\u001b[39m: name 'quotes_yahoo' is not defined"
     ]
    }
   ],
   "source": [
    "# Old:\n",
    "# quotes = [\n",
    "#     quotes_yahoo(symbol, start_date, end_date, asobject=True) \n",
    "#                 for symbol in symbols\n",
    "# ]"
   ]
  },
  {
   "cell_type": "code",
   "execution_count": 18,
   "id": "7fed2864",
   "metadata": {},
   "outputs": [
    {
     "name": "stderr",
     "output_type": "stream",
     "text": [
      "C:\\Users\\aashi\\AppData\\Local\\Temp\\ipykernel_29116\\4473502.py:2: FutureWarning: YF.download() has changed argument auto_adjust default to True\n",
      "  df = yf.download(\"AAPL\", start=start_date, end=end_date)\n",
      "[*********************100%***********************]  1 of 1 completed\n"
     ]
    }
   ],
   "source": [
    "# Download stock data\n",
    "df = yf.download(\"AAPL\", start=start_date, end=end_date)"
   ]
  },
  {
   "cell_type": "code",
   "execution_count": 22,
   "id": "e8798518",
   "metadata": {},
   "outputs": [],
   "source": [
    "# Set download folder path\n",
    "download_path = \"C:\\\\Users\\\\aashi\\\\GitHub\\\\My Repositories\\\\Machine-Learning-Implementation\\\\Detecting Patterns with Unsupervised Learning\\\\StockData\""
   ]
  },
  {
   "cell_type": "code",
   "execution_count": 25,
   "id": "aa44b1df",
   "metadata": {},
   "outputs": [],
   "source": [
    "# Create folder if it doesn't exist\n",
    "os.makedirs(download_path, exist_ok=True)"
   ]
  },
  {
   "cell_type": "code",
   "execution_count": 27,
   "id": "b3cc0fff",
   "metadata": {},
   "outputs": [
    {
     "name": "stderr",
     "output_type": "stream",
     "text": [
      "C:\\Users\\aashi\\AppData\\Local\\Temp\\ipykernel_29116\\2345459921.py:2: FutureWarning: YF.download() has changed argument auto_adjust default to True\n",
      "  yf.download(symbol, start=start_date, end=end_date) for symbol in symbols\n",
      "[*********************100%***********************]  1 of 1 completed\n",
      "\n",
      "1 Failed download:\n",
      "['TOT']: YFTzMissingError('possibly delisted; no timezone found')\n",
      "C:\\Users\\aashi\\AppData\\Local\\Temp\\ipykernel_29116\\2345459921.py:2: FutureWarning: YF.download() has changed argument auto_adjust default to True\n",
      "  yf.download(symbol, start=start_date, end=end_date) for symbol in symbols\n",
      "[*********************100%***********************]  1 of 1 completed\n",
      "C:\\Users\\aashi\\AppData\\Local\\Temp\\ipykernel_29116\\2345459921.py:2: FutureWarning: YF.download() has changed argument auto_adjust default to True\n",
      "  yf.download(symbol, start=start_date, end=end_date) for symbol in symbols\n",
      "[*********************100%***********************]  1 of 1 completed\n",
      "C:\\Users\\aashi\\AppData\\Local\\Temp\\ipykernel_29116\\2345459921.py:2: FutureWarning: YF.download() has changed argument auto_adjust default to True\n",
      "  yf.download(symbol, start=start_date, end=end_date) for symbol in symbols\n",
      "[*********************100%***********************]  1 of 1 completed\n",
      "C:\\Users\\aashi\\AppData\\Local\\Temp\\ipykernel_29116\\2345459921.py:2: FutureWarning: YF.download() has changed argument auto_adjust default to True\n",
      "  yf.download(symbol, start=start_date, end=end_date) for symbol in symbols\n",
      "[*********************100%***********************]  1 of 1 completed\n",
      "C:\\Users\\aashi\\AppData\\Local\\Temp\\ipykernel_29116\\2345459921.py:2: FutureWarning: YF.download() has changed argument auto_adjust default to True\n",
      "  yf.download(symbol, start=start_date, end=end_date) for symbol in symbols\n",
      "[*********************100%***********************]  1 of 1 completed\n",
      "C:\\Users\\aashi\\AppData\\Local\\Temp\\ipykernel_29116\\2345459921.py:2: FutureWarning: YF.download() has changed argument auto_adjust default to True\n",
      "  yf.download(symbol, start=start_date, end=end_date) for symbol in symbols\n",
      "[*********************100%***********************]  1 of 1 completed\n",
      "C:\\Users\\aashi\\AppData\\Local\\Temp\\ipykernel_29116\\2345459921.py:2: FutureWarning: YF.download() has changed argument auto_adjust default to True\n",
      "  yf.download(symbol, start=start_date, end=end_date) for symbol in symbols\n",
      "[*********************100%***********************]  1 of 1 completed\n",
      "C:\\Users\\aashi\\AppData\\Local\\Temp\\ipykernel_29116\\2345459921.py:2: FutureWarning: YF.download() has changed argument auto_adjust default to True\n",
      "  yf.download(symbol, start=start_date, end=end_date) for symbol in symbols\n",
      "[*********************100%***********************]  1 of 1 completed\n",
      "C:\\Users\\aashi\\AppData\\Local\\Temp\\ipykernel_29116\\2345459921.py:2: FutureWarning: YF.download() has changed argument auto_adjust default to True\n",
      "  yf.download(symbol, start=start_date, end=end_date) for symbol in symbols\n",
      "[*********************100%***********************]  1 of 1 completed\n",
      "\n",
      "1 Failed download:\n",
      "['CVC']: YFPricesMissingError('possibly delisted; no price data found  (1d 2003-07-03 00:00:00 -> 2007-05-04 00:00:00)')\n",
      "C:\\Users\\aashi\\AppData\\Local\\Temp\\ipykernel_29116\\2345459921.py:2: FutureWarning: YF.download() has changed argument auto_adjust default to True\n",
      "  yf.download(symbol, start=start_date, end=end_date) for symbol in symbols\n",
      "[*********************100%***********************]  1 of 1 completed\n",
      "\n",
      "1 Failed download:\n",
      "['YHOO']: YFTzMissingError('possibly delisted; no timezone found')\n",
      "C:\\Users\\aashi\\AppData\\Local\\Temp\\ipykernel_29116\\2345459921.py:2: FutureWarning: YF.download() has changed argument auto_adjust default to True\n",
      "  yf.download(symbol, start=start_date, end=end_date) for symbol in symbols\n",
      "[*********************100%***********************]  1 of 1 completed\n",
      "\n",
      "1 Failed download:\n",
      "['DELL']: YFPricesMissingError('possibly delisted; no price data found  (1d 2003-07-03 00:00:00 -> 2007-05-04 00:00:00) (Yahoo error = \"Data doesn\\'t exist for startDate = 1057204800, endDate = 1178251200\")')\n",
      "C:\\Users\\aashi\\AppData\\Local\\Temp\\ipykernel_29116\\2345459921.py:2: FutureWarning: YF.download() has changed argument auto_adjust default to True\n",
      "  yf.download(symbol, start=start_date, end=end_date) for symbol in symbols\n",
      "[*********************100%***********************]  1 of 1 completed\n",
      "C:\\Users\\aashi\\AppData\\Local\\Temp\\ipykernel_29116\\2345459921.py:2: FutureWarning: YF.download() has changed argument auto_adjust default to True\n",
      "  yf.download(symbol, start=start_date, end=end_date) for symbol in symbols\n",
      "[*********************100%***********************]  1 of 1 completed\n",
      "C:\\Users\\aashi\\AppData\\Local\\Temp\\ipykernel_29116\\2345459921.py:2: FutureWarning: YF.download() has changed argument auto_adjust default to True\n",
      "  yf.download(symbol, start=start_date, end=end_date) for symbol in symbols\n",
      "[*********************100%***********************]  1 of 1 completed\n",
      "C:\\Users\\aashi\\AppData\\Local\\Temp\\ipykernel_29116\\2345459921.py:2: FutureWarning: YF.download() has changed argument auto_adjust default to True\n",
      "  yf.download(symbol, start=start_date, end=end_date) for symbol in symbols\n",
      "[*********************100%***********************]  1 of 1 completed\n",
      "\n",
      "1 Failed download:\n",
      "['CAJ']: YFPricesMissingError('possibly delisted; no price data found  (1d 2003-07-03 00:00:00 -> 2007-05-04 00:00:00)')\n",
      "C:\\Users\\aashi\\AppData\\Local\\Temp\\ipykernel_29116\\2345459921.py:2: FutureWarning: YF.download() has changed argument auto_adjust default to True\n",
      "  yf.download(symbol, start=start_date, end=end_date) for symbol in symbols\n",
      "[*********************100%***********************]  1 of 1 completed\n",
      "\n",
      "1 Failed download:\n",
      "['MTU']: YFPricesMissingError('possibly delisted; no price data found  (1d 2003-07-03 00:00:00 -> 2007-05-04 00:00:00)')\n",
      "C:\\Users\\aashi\\AppData\\Local\\Temp\\ipykernel_29116\\2345459921.py:2: FutureWarning: YF.download() has changed argument auto_adjust default to True\n",
      "  yf.download(symbol, start=start_date, end=end_date) for symbol in symbols\n",
      "[*********************100%***********************]  1 of 1 completed\n",
      "\n",
      "1 Failed download:\n",
      "['SNE']: YFTzMissingError('possibly delisted; no timezone found')\n",
      "C:\\Users\\aashi\\AppData\\Local\\Temp\\ipykernel_29116\\2345459921.py:2: FutureWarning: YF.download() has changed argument auto_adjust default to True\n",
      "  yf.download(symbol, start=start_date, end=end_date) for symbol in symbols\n",
      "[*********************100%***********************]  1 of 1 completed\n",
      "C:\\Users\\aashi\\AppData\\Local\\Temp\\ipykernel_29116\\2345459921.py:2: FutureWarning: YF.download() has changed argument auto_adjust default to True\n",
      "  yf.download(symbol, start=start_date, end=end_date) for symbol in symbols\n",
      "[*********************100%***********************]  1 of 1 completed\n",
      "C:\\Users\\aashi\\AppData\\Local\\Temp\\ipykernel_29116\\2345459921.py:2: FutureWarning: YF.download() has changed argument auto_adjust default to True\n",
      "  yf.download(symbol, start=start_date, end=end_date) for symbol in symbols\n",
      "[*********************100%***********************]  1 of 1 completed\n",
      "\n",
      "1 Failed download:\n",
      "['NAV']: YFTzMissingError('possibly delisted; no timezone found')\n",
      "C:\\Users\\aashi\\AppData\\Local\\Temp\\ipykernel_29116\\2345459921.py:2: FutureWarning: YF.download() has changed argument auto_adjust default to True\n",
      "  yf.download(symbol, start=start_date, end=end_date) for symbol in symbols\n",
      "[*********************100%***********************]  1 of 1 completed\n",
      "C:\\Users\\aashi\\AppData\\Local\\Temp\\ipykernel_29116\\2345459921.py:2: FutureWarning: YF.download() has changed argument auto_adjust default to True\n",
      "  yf.download(symbol, start=start_date, end=end_date) for symbol in symbols\n",
      "[*********************100%***********************]  1 of 1 completed\n",
      "C:\\Users\\aashi\\AppData\\Local\\Temp\\ipykernel_29116\\2345459921.py:2: FutureWarning: YF.download() has changed argument auto_adjust default to True\n",
      "  yf.download(symbol, start=start_date, end=end_date) for symbol in symbols\n",
      "[*********************100%***********************]  1 of 1 completed\n",
      "C:\\Users\\aashi\\AppData\\Local\\Temp\\ipykernel_29116\\2345459921.py:2: FutureWarning: YF.download() has changed argument auto_adjust default to True\n",
      "  yf.download(symbol, start=start_date, end=end_date) for symbol in symbols\n",
      "[*********************100%***********************]  1 of 1 completed\n",
      "C:\\Users\\aashi\\AppData\\Local\\Temp\\ipykernel_29116\\2345459921.py:2: FutureWarning: YF.download() has changed argument auto_adjust default to True\n",
      "  yf.download(symbol, start=start_date, end=end_date) for symbol in symbols\n",
      "[*********************100%***********************]  1 of 1 completed\n",
      "C:\\Users\\aashi\\AppData\\Local\\Temp\\ipykernel_29116\\2345459921.py:2: FutureWarning: YF.download() has changed argument auto_adjust default to True\n",
      "  yf.download(symbol, start=start_date, end=end_date) for symbol in symbols\n",
      "[*********************100%***********************]  1 of 1 completed\n",
      "C:\\Users\\aashi\\AppData\\Local\\Temp\\ipykernel_29116\\2345459921.py:2: FutureWarning: YF.download() has changed argument auto_adjust default to True\n",
      "  yf.download(symbol, start=start_date, end=end_date) for symbol in symbols\n",
      "[*********************100%***********************]  1 of 1 completed\n",
      "C:\\Users\\aashi\\AppData\\Local\\Temp\\ipykernel_29116\\2345459921.py:2: FutureWarning: YF.download() has changed argument auto_adjust default to True\n",
      "  yf.download(symbol, start=start_date, end=end_date) for symbol in symbols\n",
      "[*********************100%***********************]  1 of 1 completed\n",
      "C:\\Users\\aashi\\AppData\\Local\\Temp\\ipykernel_29116\\2345459921.py:2: FutureWarning: YF.download() has changed argument auto_adjust default to True\n",
      "  yf.download(symbol, start=start_date, end=end_date) for symbol in symbols\n",
      "[*********************100%***********************]  1 of 1 completed\n",
      "\n",
      "1 Failed download:\n",
      "['UN']: YFTzMissingError('possibly delisted; no timezone found')\n",
      "C:\\Users\\aashi\\AppData\\Local\\Temp\\ipykernel_29116\\2345459921.py:2: FutureWarning: YF.download() has changed argument auto_adjust default to True\n",
      "  yf.download(symbol, start=start_date, end=end_date) for symbol in symbols\n",
      "[*********************100%***********************]  1 of 1 completed\n",
      "C:\\Users\\aashi\\AppData\\Local\\Temp\\ipykernel_29116\\2345459921.py:2: FutureWarning: YF.download() has changed argument auto_adjust default to True\n",
      "  yf.download(symbol, start=start_date, end=end_date) for symbol in symbols\n",
      "[*********************100%***********************]  1 of 1 completed\n",
      "C:\\Users\\aashi\\AppData\\Local\\Temp\\ipykernel_29116\\2345459921.py:2: FutureWarning: YF.download() has changed argument auto_adjust default to True\n",
      "  yf.download(symbol, start=start_date, end=end_date) for symbol in symbols\n",
      "[*********************100%***********************]  1 of 1 completed\n",
      "C:\\Users\\aashi\\AppData\\Local\\Temp\\ipykernel_29116\\2345459921.py:2: FutureWarning: YF.download() has changed argument auto_adjust default to True\n",
      "  yf.download(symbol, start=start_date, end=end_date) for symbol in symbols\n",
      "[*********************100%***********************]  1 of 1 completed\n",
      "C:\\Users\\aashi\\AppData\\Local\\Temp\\ipykernel_29116\\2345459921.py:2: FutureWarning: YF.download() has changed argument auto_adjust default to True\n",
      "  yf.download(symbol, start=start_date, end=end_date) for symbol in symbols\n",
      "[*********************100%***********************]  1 of 1 completed\n",
      "C:\\Users\\aashi\\AppData\\Local\\Temp\\ipykernel_29116\\2345459921.py:2: FutureWarning: YF.download() has changed argument auto_adjust default to True\n",
      "  yf.download(symbol, start=start_date, end=end_date) for symbol in symbols\n",
      "[*********************100%***********************]  1 of 1 completed\n",
      "C:\\Users\\aashi\\AppData\\Local\\Temp\\ipykernel_29116\\2345459921.py:2: FutureWarning: YF.download() has changed argument auto_adjust default to True\n",
      "  yf.download(symbol, start=start_date, end=end_date) for symbol in symbols\n",
      "[*********************100%***********************]  1 of 1 completed\n",
      "C:\\Users\\aashi\\AppData\\Local\\Temp\\ipykernel_29116\\2345459921.py:2: FutureWarning: YF.download() has changed argument auto_adjust default to True\n",
      "  yf.download(symbol, start=start_date, end=end_date) for symbol in symbols\n",
      "[*********************100%***********************]  1 of 1 completed\n",
      "C:\\Users\\aashi\\AppData\\Local\\Temp\\ipykernel_29116\\2345459921.py:2: FutureWarning: YF.download() has changed argument auto_adjust default to True\n",
      "  yf.download(symbol, start=start_date, end=end_date) for symbol in symbols\n",
      "[*********************100%***********************]  1 of 1 completed\n",
      "C:\\Users\\aashi\\AppData\\Local\\Temp\\ipykernel_29116\\2345459921.py:2: FutureWarning: YF.download() has changed argument auto_adjust default to True\n",
      "  yf.download(symbol, start=start_date, end=end_date) for symbol in symbols\n",
      "[*********************100%***********************]  1 of 1 completed\n",
      "C:\\Users\\aashi\\AppData\\Local\\Temp\\ipykernel_29116\\2345459921.py:2: FutureWarning: YF.download() has changed argument auto_adjust default to True\n",
      "  yf.download(symbol, start=start_date, end=end_date) for symbol in symbols\n",
      "[*********************100%***********************]  1 of 1 completed\n",
      "C:\\Users\\aashi\\AppData\\Local\\Temp\\ipykernel_29116\\2345459921.py:2: FutureWarning: YF.download() has changed argument auto_adjust default to True\n",
      "  yf.download(symbol, start=start_date, end=end_date) for symbol in symbols\n",
      "[*********************100%***********************]  1 of 1 completed\n",
      "C:\\Users\\aashi\\AppData\\Local\\Temp\\ipykernel_29116\\2345459921.py:2: FutureWarning: YF.download() has changed argument auto_adjust default to True\n",
      "  yf.download(symbol, start=start_date, end=end_date) for symbol in symbols\n",
      "[*********************100%***********************]  1 of 1 completed\n",
      "C:\\Users\\aashi\\AppData\\Local\\Temp\\ipykernel_29116\\2345459921.py:2: FutureWarning: YF.download() has changed argument auto_adjust default to True\n",
      "  yf.download(symbol, start=start_date, end=end_date) for symbol in symbols\n",
      "[*********************100%***********************]  1 of 1 completed\n",
      "C:\\Users\\aashi\\AppData\\Local\\Temp\\ipykernel_29116\\2345459921.py:2: FutureWarning: YF.download() has changed argument auto_adjust default to True\n",
      "  yf.download(symbol, start=start_date, end=end_date) for symbol in symbols\n",
      "[*********************100%***********************]  1 of 1 completed\n",
      "C:\\Users\\aashi\\AppData\\Local\\Temp\\ipykernel_29116\\2345459921.py:2: FutureWarning: YF.download() has changed argument auto_adjust default to True\n",
      "  yf.download(symbol, start=start_date, end=end_date) for symbol in symbols\n",
      "[*********************100%***********************]  1 of 1 completed\n",
      "C:\\Users\\aashi\\AppData\\Local\\Temp\\ipykernel_29116\\2345459921.py:2: FutureWarning: YF.download() has changed argument auto_adjust default to True\n",
      "  yf.download(symbol, start=start_date, end=end_date) for symbol in symbols\n",
      "[*********************100%***********************]  1 of 1 completed\n",
      "C:\\Users\\aashi\\AppData\\Local\\Temp\\ipykernel_29116\\2345459921.py:2: FutureWarning: YF.download() has changed argument auto_adjust default to True\n",
      "  yf.download(symbol, start=start_date, end=end_date) for symbol in symbols\n",
      "[*********************100%***********************]  1 of 1 completed\n",
      "C:\\Users\\aashi\\AppData\\Local\\Temp\\ipykernel_29116\\2345459921.py:2: FutureWarning: YF.download() has changed argument auto_adjust default to True\n",
      "  yf.download(symbol, start=start_date, end=end_date) for symbol in symbols\n",
      "[*********************100%***********************]  1 of 1 completed\n",
      "C:\\Users\\aashi\\AppData\\Local\\Temp\\ipykernel_29116\\2345459921.py:2: FutureWarning: YF.download() has changed argument auto_adjust default to True\n",
      "  yf.download(symbol, start=start_date, end=end_date) for symbol in symbols\n",
      "[*********************100%***********************]  1 of 1 completed\n",
      "C:\\Users\\aashi\\AppData\\Local\\Temp\\ipykernel_29116\\2345459921.py:2: FutureWarning: YF.download() has changed argument auto_adjust default to True\n",
      "  yf.download(symbol, start=start_date, end=end_date) for symbol in symbols\n",
      "[*********************100%***********************]  1 of 1 completed\n",
      "C:\\Users\\aashi\\AppData\\Local\\Temp\\ipykernel_29116\\2345459921.py:2: FutureWarning: YF.download() has changed argument auto_adjust default to True\n",
      "  yf.download(symbol, start=start_date, end=end_date) for symbol in symbols\n",
      "[*********************100%***********************]  1 of 1 completed\n",
      "C:\\Users\\aashi\\AppData\\Local\\Temp\\ipykernel_29116\\2345459921.py:2: FutureWarning: YF.download() has changed argument auto_adjust default to True\n",
      "  yf.download(symbol, start=start_date, end=end_date) for symbol in symbols\n",
      "[*********************100%***********************]  1 of 1 completed\n",
      "C:\\Users\\aashi\\AppData\\Local\\Temp\\ipykernel_29116\\2345459921.py:2: FutureWarning: YF.download() has changed argument auto_adjust default to True\n",
      "  yf.download(symbol, start=start_date, end=end_date) for symbol in symbols\n",
      "[*********************100%***********************]  1 of 1 completed\n",
      "C:\\Users\\aashi\\AppData\\Local\\Temp\\ipykernel_29116\\2345459921.py:2: FutureWarning: YF.download() has changed argument auto_adjust default to True\n",
      "  yf.download(symbol, start=start_date, end=end_date) for symbol in symbols\n",
      "[*********************100%***********************]  1 of 1 completed\n",
      "C:\\Users\\aashi\\AppData\\Local\\Temp\\ipykernel_29116\\2345459921.py:2: FutureWarning: YF.download() has changed argument auto_adjust default to True\n",
      "  yf.download(symbol, start=start_date, end=end_date) for symbol in symbols\n",
      "[*********************100%***********************]  1 of 1 completed\n",
      "C:\\Users\\aashi\\AppData\\Local\\Temp\\ipykernel_29116\\2345459921.py:2: FutureWarning: YF.download() has changed argument auto_adjust default to True\n",
      "  yf.download(symbol, start=start_date, end=end_date) for symbol in symbols\n",
      "[*********************100%***********************]  1 of 1 completed\n",
      "\n",
      "1 Failed download:\n",
      "['RTN']: YFTzMissingError('possibly delisted; no timezone found')\n",
      "C:\\Users\\aashi\\AppData\\Local\\Temp\\ipykernel_29116\\2345459921.py:2: FutureWarning: YF.download() has changed argument auto_adjust default to True\n",
      "  yf.download(symbol, start=start_date, end=end_date) for symbol in symbols\n",
      "[*********************100%***********************]  1 of 1 completed\n",
      "C:\\Users\\aashi\\AppData\\Local\\Temp\\ipykernel_29116\\2345459921.py:2: FutureWarning: YF.download() has changed argument auto_adjust default to True\n",
      "  yf.download(symbol, start=start_date, end=end_date) for symbol in symbols\n",
      "[*********************100%***********************]  1 of 1 completed\n",
      "C:\\Users\\aashi\\AppData\\Local\\Temp\\ipykernel_29116\\2345459921.py:2: FutureWarning: YF.download() has changed argument auto_adjust default to True\n",
      "  yf.download(symbol, start=start_date, end=end_date) for symbol in symbols\n",
      "[*********************100%***********************]  1 of 1 completed\n"
     ]
    }
   ],
   "source": [
    "quotes = [\n",
    "    yf.download(symbol, start=start_date, end=end_date) for symbol in symbols\n",
    "]"
   ]
  },
  {
   "cell_type": "code",
   "execution_count": null,
   "id": "ddbf1a61",
   "metadata": {},
   "outputs": [
    {
     "name": "stderr",
     "output_type": "stream",
     "text": [
      "C:\\Users\\aashi\\AppData\\Local\\Temp\\ipykernel_29116\\3863911628.py:6: FutureWarning: YF.download() has changed argument auto_adjust default to True\n",
      "  df = yf.download(symbol, start=start_date, end=end_date)\n",
      "[*********************100%***********************]  1 of 1 completed\n",
      "\n",
      "1 Failed download:\n",
      "['TOT']: YFTzMissingError('possibly delisted; no timezone found')\n",
      "C:\\Users\\aashi\\AppData\\Local\\Temp\\ipykernel_29116\\3863911628.py:6: FutureWarning: YF.download() has changed argument auto_adjust default to True\n",
      "  df = yf.download(symbol, start=start_date, end=end_date)\n"
     ]
    },
    {
     "name": "stdout",
     "output_type": "stream",
     "text": [
      "Saved TOT data to C:\\Users\\aashi\\GitHub\\My Repositories\\Machine-Learning-Implementation\\Detecting Patterns with Unsupervised Learning\\StockData\\TOT.csv\n"
     ]
    },
    {
     "name": "stderr",
     "output_type": "stream",
     "text": [
      "[*********************100%***********************]  1 of 1 completed\n",
      "C:\\Users\\aashi\\AppData\\Local\\Temp\\ipykernel_29116\\3863911628.py:6: FutureWarning: YF.download() has changed argument auto_adjust default to True\n",
      "  df = yf.download(symbol, start=start_date, end=end_date)\n"
     ]
    },
    {
     "name": "stdout",
     "output_type": "stream",
     "text": [
      "Saved XOM data to C:\\Users\\aashi\\GitHub\\My Repositories\\Machine-Learning-Implementation\\Detecting Patterns with Unsupervised Learning\\StockData\\XOM.csv\n"
     ]
    },
    {
     "name": "stderr",
     "output_type": "stream",
     "text": [
      "[*********************100%***********************]  1 of 1 completed\n",
      "C:\\Users\\aashi\\AppData\\Local\\Temp\\ipykernel_29116\\3863911628.py:6: FutureWarning: YF.download() has changed argument auto_adjust default to True\n",
      "  df = yf.download(symbol, start=start_date, end=end_date)\n"
     ]
    },
    {
     "name": "stdout",
     "output_type": "stream",
     "text": [
      "Saved CVX data to C:\\Users\\aashi\\GitHub\\My Repositories\\Machine-Learning-Implementation\\Detecting Patterns with Unsupervised Learning\\StockData\\CVX.csv\n"
     ]
    },
    {
     "name": "stderr",
     "output_type": "stream",
     "text": [
      "[*********************100%***********************]  1 of 1 completed\n",
      "C:\\Users\\aashi\\AppData\\Local\\Temp\\ipykernel_29116\\3863911628.py:6: FutureWarning: YF.download() has changed argument auto_adjust default to True\n",
      "  df = yf.download(symbol, start=start_date, end=end_date)\n"
     ]
    },
    {
     "name": "stdout",
     "output_type": "stream",
     "text": [
      "Saved COP data to C:\\Users\\aashi\\GitHub\\My Repositories\\Machine-Learning-Implementation\\Detecting Patterns with Unsupervised Learning\\StockData\\COP.csv\n"
     ]
    },
    {
     "name": "stderr",
     "output_type": "stream",
     "text": [
      "[*********************100%***********************]  1 of 1 completed\n",
      "C:\\Users\\aashi\\AppData\\Local\\Temp\\ipykernel_29116\\3863911628.py:6: FutureWarning: YF.download() has changed argument auto_adjust default to True\n",
      "  df = yf.download(symbol, start=start_date, end=end_date)\n"
     ]
    },
    {
     "name": "stdout",
     "output_type": "stream",
     "text": [
      "Saved VLO data to C:\\Users\\aashi\\GitHub\\My Repositories\\Machine-Learning-Implementation\\Detecting Patterns with Unsupervised Learning\\StockData\\VLO.csv\n"
     ]
    },
    {
     "name": "stderr",
     "output_type": "stream",
     "text": [
      "[*********************100%***********************]  1 of 1 completed\n",
      "C:\\Users\\aashi\\AppData\\Local\\Temp\\ipykernel_29116\\3863911628.py:6: FutureWarning: YF.download() has changed argument auto_adjust default to True\n",
      "  df = yf.download(symbol, start=start_date, end=end_date)\n"
     ]
    },
    {
     "name": "stdout",
     "output_type": "stream",
     "text": [
      "Saved MSFT data to C:\\Users\\aashi\\GitHub\\My Repositories\\Machine-Learning-Implementation\\Detecting Patterns with Unsupervised Learning\\StockData\\MSFT.csv\n"
     ]
    },
    {
     "name": "stderr",
     "output_type": "stream",
     "text": [
      "[*********************100%***********************]  1 of 1 completed\n",
      "C:\\Users\\aashi\\AppData\\Local\\Temp\\ipykernel_29116\\3863911628.py:6: FutureWarning: YF.download() has changed argument auto_adjust default to True\n",
      "  df = yf.download(symbol, start=start_date, end=end_date)\n"
     ]
    },
    {
     "name": "stdout",
     "output_type": "stream",
     "text": [
      "Saved IBM data to C:\\Users\\aashi\\GitHub\\My Repositories\\Machine-Learning-Implementation\\Detecting Patterns with Unsupervised Learning\\StockData\\IBM.csv\n"
     ]
    },
    {
     "name": "stderr",
     "output_type": "stream",
     "text": [
      "[*********************100%***********************]  1 of 1 completed\n",
      "C:\\Users\\aashi\\AppData\\Local\\Temp\\ipykernel_29116\\3863911628.py:6: FutureWarning: YF.download() has changed argument auto_adjust default to True\n",
      "  df = yf.download(symbol, start=start_date, end=end_date)\n"
     ]
    },
    {
     "name": "stdout",
     "output_type": "stream",
     "text": [
      "Saved TWX data to C:\\Users\\aashi\\GitHub\\My Repositories\\Machine-Learning-Implementation\\Detecting Patterns with Unsupervised Learning\\StockData\\TWX.csv\n"
     ]
    },
    {
     "name": "stderr",
     "output_type": "stream",
     "text": [
      "[*********************100%***********************]  1 of 1 completed\n",
      "C:\\Users\\aashi\\AppData\\Local\\Temp\\ipykernel_29116\\3863911628.py:6: FutureWarning: YF.download() has changed argument auto_adjust default to True\n",
      "  df = yf.download(symbol, start=start_date, end=end_date)\n",
      "[*********************100%***********************]  1 of 1 completed\n",
      "\n",
      "1 Failed download:\n",
      "['CVC']: YFPricesMissingError('possibly delisted; no price data found  (1d 2003-07-03 00:00:00 -> 2007-05-04 00:00:00)')\n",
      "C:\\Users\\aashi\\AppData\\Local\\Temp\\ipykernel_29116\\3863911628.py:6: FutureWarning: YF.download() has changed argument auto_adjust default to True\n",
      "  df = yf.download(symbol, start=start_date, end=end_date)\n"
     ]
    },
    {
     "name": "stdout",
     "output_type": "stream",
     "text": [
      "Saved CMCSA data to C:\\Users\\aashi\\GitHub\\My Repositories\\Machine-Learning-Implementation\\Detecting Patterns with Unsupervised Learning\\StockData\\CMCSA.csv\n",
      "Saved CVC data to C:\\Users\\aashi\\GitHub\\My Repositories\\Machine-Learning-Implementation\\Detecting Patterns with Unsupervised Learning\\StockData\\CVC.csv\n"
     ]
    },
    {
     "name": "stderr",
     "output_type": "stream",
     "text": [
      "[*********************100%***********************]  1 of 1 completed\n",
      "\n",
      "1 Failed download:\n",
      "['YHOO']: YFTzMissingError('possibly delisted; no timezone found')\n",
      "C:\\Users\\aashi\\AppData\\Local\\Temp\\ipykernel_29116\\3863911628.py:6: FutureWarning: YF.download() has changed argument auto_adjust default to True\n",
      "  df = yf.download(symbol, start=start_date, end=end_date)\n"
     ]
    },
    {
     "name": "stdout",
     "output_type": "stream",
     "text": [
      "Saved YHOO data to C:\\Users\\aashi\\GitHub\\My Repositories\\Machine-Learning-Implementation\\Detecting Patterns with Unsupervised Learning\\StockData\\YHOO.csv\n"
     ]
    },
    {
     "name": "stderr",
     "output_type": "stream",
     "text": [
      "[*********************100%***********************]  1 of 1 completed\n",
      "\n",
      "1 Failed download:\n",
      "['DELL']: YFPricesMissingError('possibly delisted; no price data found  (1d 2003-07-03 00:00:00 -> 2007-05-04 00:00:00) (Yahoo error = \"Data doesn\\'t exist for startDate = 1057204800, endDate = 1178251200\")')\n",
      "C:\\Users\\aashi\\AppData\\Local\\Temp\\ipykernel_29116\\3863911628.py:6: FutureWarning: YF.download() has changed argument auto_adjust default to True\n",
      "  df = yf.download(symbol, start=start_date, end=end_date)\n"
     ]
    },
    {
     "name": "stdout",
     "output_type": "stream",
     "text": [
      "Saved DELL data to C:\\Users\\aashi\\GitHub\\My Repositories\\Machine-Learning-Implementation\\Detecting Patterns with Unsupervised Learning\\StockData\\DELL.csv\n"
     ]
    },
    {
     "name": "stderr",
     "output_type": "stream",
     "text": [
      "[*********************100%***********************]  1 of 1 completed\n",
      "C:\\Users\\aashi\\AppData\\Local\\Temp\\ipykernel_29116\\3863911628.py:6: FutureWarning: YF.download() has changed argument auto_adjust default to True\n",
      "  df = yf.download(symbol, start=start_date, end=end_date)\n"
     ]
    },
    {
     "name": "stdout",
     "output_type": "stream",
     "text": [
      "Saved HPQ data to C:\\Users\\aashi\\GitHub\\My Repositories\\Machine-Learning-Implementation\\Detecting Patterns with Unsupervised Learning\\StockData\\HPQ.csv\n"
     ]
    },
    {
     "name": "stderr",
     "output_type": "stream",
     "text": [
      "[*********************100%***********************]  1 of 1 completed\n",
      "C:\\Users\\aashi\\AppData\\Local\\Temp\\ipykernel_29116\\3863911628.py:6: FutureWarning: YF.download() has changed argument auto_adjust default to True\n",
      "  df = yf.download(symbol, start=start_date, end=end_date)\n"
     ]
    },
    {
     "name": "stdout",
     "output_type": "stream",
     "text": [
      "Saved AMZN data to C:\\Users\\aashi\\GitHub\\My Repositories\\Machine-Learning-Implementation\\Detecting Patterns with Unsupervised Learning\\StockData\\AMZN.csv\n"
     ]
    },
    {
     "name": "stderr",
     "output_type": "stream",
     "text": [
      "[*********************100%***********************]  1 of 1 completed\n",
      "C:\\Users\\aashi\\AppData\\Local\\Temp\\ipykernel_29116\\3863911628.py:6: FutureWarning: YF.download() has changed argument auto_adjust default to True\n",
      "  df = yf.download(symbol, start=start_date, end=end_date)\n",
      "[*********************100%***********************]  1 of 1 completed\n",
      "\n",
      "1 Failed download:\n",
      "['CAJ']: YFPricesMissingError('possibly delisted; no price data found  (1d 2003-07-03 00:00:00 -> 2007-05-04 00:00:00)')\n",
      "C:\\Users\\aashi\\AppData\\Local\\Temp\\ipykernel_29116\\3863911628.py:6: FutureWarning: YF.download() has changed argument auto_adjust default to True\n",
      "  df = yf.download(symbol, start=start_date, end=end_date)\n"
     ]
    },
    {
     "name": "stdout",
     "output_type": "stream",
     "text": [
      "Saved TM data to C:\\Users\\aashi\\GitHub\\My Repositories\\Machine-Learning-Implementation\\Detecting Patterns with Unsupervised Learning\\StockData\\TM.csv\n",
      "Saved CAJ data to C:\\Users\\aashi\\GitHub\\My Repositories\\Machine-Learning-Implementation\\Detecting Patterns with Unsupervised Learning\\StockData\\CAJ.csv\n"
     ]
    },
    {
     "name": "stderr",
     "output_type": "stream",
     "text": [
      "[*********************100%***********************]  1 of 1 completed\n",
      "\n",
      "1 Failed download:\n",
      "['MTU']: YFPricesMissingError('possibly delisted; no price data found  (1d 2003-07-03 00:00:00 -> 2007-05-04 00:00:00)')\n",
      "C:\\Users\\aashi\\AppData\\Local\\Temp\\ipykernel_29116\\3863911628.py:6: FutureWarning: YF.download() has changed argument auto_adjust default to True\n",
      "  df = yf.download(symbol, start=start_date, end=end_date)\n"
     ]
    },
    {
     "name": "stdout",
     "output_type": "stream",
     "text": [
      "Saved MTU data to C:\\Users\\aashi\\GitHub\\My Repositories\\Machine-Learning-Implementation\\Detecting Patterns with Unsupervised Learning\\StockData\\MTU.csv\n"
     ]
    },
    {
     "name": "stderr",
     "output_type": "stream",
     "text": [
      "[*********************100%***********************]  1 of 1 completed\n",
      "\n",
      "1 Failed download:\n",
      "['SNE']: YFTzMissingError('possibly delisted; no timezone found')\n",
      "C:\\Users\\aashi\\AppData\\Local\\Temp\\ipykernel_29116\\3863911628.py:6: FutureWarning: YF.download() has changed argument auto_adjust default to True\n",
      "  df = yf.download(symbol, start=start_date, end=end_date)\n"
     ]
    },
    {
     "name": "stdout",
     "output_type": "stream",
     "text": [
      "Saved SNE data to C:\\Users\\aashi\\GitHub\\My Repositories\\Machine-Learning-Implementation\\Detecting Patterns with Unsupervised Learning\\StockData\\SNE.csv\n"
     ]
    },
    {
     "name": "stderr",
     "output_type": "stream",
     "text": [
      "[*********************100%***********************]  1 of 1 completed\n",
      "C:\\Users\\aashi\\AppData\\Local\\Temp\\ipykernel_29116\\3863911628.py:6: FutureWarning: YF.download() has changed argument auto_adjust default to True\n",
      "  df = yf.download(symbol, start=start_date, end=end_date)\n"
     ]
    },
    {
     "name": "stdout",
     "output_type": "stream",
     "text": [
      "Saved F data to C:\\Users\\aashi\\GitHub\\My Repositories\\Machine-Learning-Implementation\\Detecting Patterns with Unsupervised Learning\\StockData\\F.csv\n"
     ]
    },
    {
     "name": "stderr",
     "output_type": "stream",
     "text": [
      "[*********************100%***********************]  1 of 1 completed\n",
      "C:\\Users\\aashi\\AppData\\Local\\Temp\\ipykernel_29116\\3863911628.py:6: FutureWarning: YF.download() has changed argument auto_adjust default to True\n",
      "  df = yf.download(symbol, start=start_date, end=end_date)\n"
     ]
    },
    {
     "name": "stdout",
     "output_type": "stream",
     "text": [
      "Saved HMC data to C:\\Users\\aashi\\GitHub\\My Repositories\\Machine-Learning-Implementation\\Detecting Patterns with Unsupervised Learning\\StockData\\HMC.csv\n"
     ]
    },
    {
     "name": "stderr",
     "output_type": "stream",
     "text": [
      "[*********************100%***********************]  1 of 1 completed\n",
      "\n",
      "1 Failed download:\n",
      "['NAV']: YFTzMissingError('possibly delisted; no timezone found')\n",
      "C:\\Users\\aashi\\AppData\\Local\\Temp\\ipykernel_29116\\3863911628.py:6: FutureWarning: YF.download() has changed argument auto_adjust default to True\n",
      "  df = yf.download(symbol, start=start_date, end=end_date)\n"
     ]
    },
    {
     "name": "stdout",
     "output_type": "stream",
     "text": [
      "Saved NAV data to C:\\Users\\aashi\\GitHub\\My Repositories\\Machine-Learning-Implementation\\Detecting Patterns with Unsupervised Learning\\StockData\\NAV.csv\n"
     ]
    },
    {
     "name": "stderr",
     "output_type": "stream",
     "text": [
      "[*********************100%***********************]  1 of 1 completed\n",
      "C:\\Users\\aashi\\AppData\\Local\\Temp\\ipykernel_29116\\3863911628.py:6: FutureWarning: YF.download() has changed argument auto_adjust default to True\n",
      "  df = yf.download(symbol, start=start_date, end=end_date)\n"
     ]
    },
    {
     "name": "stdout",
     "output_type": "stream",
     "text": [
      "Saved NOC data to C:\\Users\\aashi\\GitHub\\My Repositories\\Machine-Learning-Implementation\\Detecting Patterns with Unsupervised Learning\\StockData\\NOC.csv\n"
     ]
    },
    {
     "name": "stderr",
     "output_type": "stream",
     "text": [
      "[*********************100%***********************]  1 of 1 completed\n",
      "C:\\Users\\aashi\\AppData\\Local\\Temp\\ipykernel_29116\\3863911628.py:6: FutureWarning: YF.download() has changed argument auto_adjust default to True\n",
      "  df = yf.download(symbol, start=start_date, end=end_date)\n"
     ]
    },
    {
     "name": "stdout",
     "output_type": "stream",
     "text": [
      "Saved BA data to C:\\Users\\aashi\\GitHub\\My Repositories\\Machine-Learning-Implementation\\Detecting Patterns with Unsupervised Learning\\StockData\\BA.csv\n"
     ]
    },
    {
     "name": "stderr",
     "output_type": "stream",
     "text": [
      "[*********************100%***********************]  1 of 1 completed\n",
      "C:\\Users\\aashi\\AppData\\Local\\Temp\\ipykernel_29116\\3863911628.py:6: FutureWarning: YF.download() has changed argument auto_adjust default to True\n",
      "  df = yf.download(symbol, start=start_date, end=end_date)\n"
     ]
    },
    {
     "name": "stdout",
     "output_type": "stream",
     "text": [
      "Saved KO data to C:\\Users\\aashi\\GitHub\\My Repositories\\Machine-Learning-Implementation\\Detecting Patterns with Unsupervised Learning\\StockData\\KO.csv\n"
     ]
    },
    {
     "name": "stderr",
     "output_type": "stream",
     "text": [
      "[*********************100%***********************]  1 of 1 completed\n",
      "C:\\Users\\aashi\\AppData\\Local\\Temp\\ipykernel_29116\\3863911628.py:6: FutureWarning: YF.download() has changed argument auto_adjust default to True\n",
      "  df = yf.download(symbol, start=start_date, end=end_date)\n"
     ]
    },
    {
     "name": "stdout",
     "output_type": "stream",
     "text": [
      "Saved MMM data to C:\\Users\\aashi\\GitHub\\My Repositories\\Machine-Learning-Implementation\\Detecting Patterns with Unsupervised Learning\\StockData\\MMM.csv\n"
     ]
    },
    {
     "name": "stderr",
     "output_type": "stream",
     "text": [
      "[*********************100%***********************]  1 of 1 completed\n",
      "C:\\Users\\aashi\\AppData\\Local\\Temp\\ipykernel_29116\\3863911628.py:6: FutureWarning: YF.download() has changed argument auto_adjust default to True\n",
      "  df = yf.download(symbol, start=start_date, end=end_date)\n"
     ]
    },
    {
     "name": "stdout",
     "output_type": "stream",
     "text": [
      "Saved MCD data to C:\\Users\\aashi\\GitHub\\My Repositories\\Machine-Learning-Implementation\\Detecting Patterns with Unsupervised Learning\\StockData\\MCD.csv\n"
     ]
    },
    {
     "name": "stderr",
     "output_type": "stream",
     "text": [
      "[*********************100%***********************]  1 of 1 completed\n",
      "C:\\Users\\aashi\\AppData\\Local\\Temp\\ipykernel_29116\\3863911628.py:6: FutureWarning: YF.download() has changed argument auto_adjust default to True\n",
      "  df = yf.download(symbol, start=start_date, end=end_date)\n"
     ]
    },
    {
     "name": "stdout",
     "output_type": "stream",
     "text": [
      "Saved PEP data to C:\\Users\\aashi\\GitHub\\My Repositories\\Machine-Learning-Implementation\\Detecting Patterns with Unsupervised Learning\\StockData\\PEP.csv\n"
     ]
    },
    {
     "name": "stderr",
     "output_type": "stream",
     "text": [
      "[*********************100%***********************]  1 of 1 completed\n",
      "C:\\Users\\aashi\\AppData\\Local\\Temp\\ipykernel_29116\\3863911628.py:6: FutureWarning: YF.download() has changed argument auto_adjust default to True\n",
      "  df = yf.download(symbol, start=start_date, end=end_date)\n"
     ]
    },
    {
     "name": "stdout",
     "output_type": "stream",
     "text": [
      "Saved MDLZ data to C:\\Users\\aashi\\GitHub\\My Repositories\\Machine-Learning-Implementation\\Detecting Patterns with Unsupervised Learning\\StockData\\MDLZ.csv\n"
     ]
    },
    {
     "name": "stderr",
     "output_type": "stream",
     "text": [
      "[*********************100%***********************]  1 of 1 completed\n",
      "C:\\Users\\aashi\\AppData\\Local\\Temp\\ipykernel_29116\\3863911628.py:6: FutureWarning: YF.download() has changed argument auto_adjust default to True\n",
      "  df = yf.download(symbol, start=start_date, end=end_date)\n"
     ]
    },
    {
     "name": "stdout",
     "output_type": "stream",
     "text": [
      "Saved K data to C:\\Users\\aashi\\GitHub\\My Repositories\\Machine-Learning-Implementation\\Detecting Patterns with Unsupervised Learning\\StockData\\K.csv\n"
     ]
    },
    {
     "name": "stderr",
     "output_type": "stream",
     "text": [
      "[*********************100%***********************]  1 of 1 completed\n",
      "\n",
      "1 Failed download:\n",
      "['UN']: YFTzMissingError('possibly delisted; no timezone found')\n",
      "C:\\Users\\aashi\\AppData\\Local\\Temp\\ipykernel_29116\\3863911628.py:6: FutureWarning: YF.download() has changed argument auto_adjust default to True\n",
      "  df = yf.download(symbol, start=start_date, end=end_date)\n"
     ]
    },
    {
     "name": "stdout",
     "output_type": "stream",
     "text": [
      "Saved UN data to C:\\Users\\aashi\\GitHub\\My Repositories\\Machine-Learning-Implementation\\Detecting Patterns with Unsupervised Learning\\StockData\\UN.csv\n"
     ]
    },
    {
     "name": "stderr",
     "output_type": "stream",
     "text": [
      "[*********************100%***********************]  1 of 1 completed\n",
      "C:\\Users\\aashi\\AppData\\Local\\Temp\\ipykernel_29116\\3863911628.py:6: FutureWarning: YF.download() has changed argument auto_adjust default to True\n",
      "  df = yf.download(symbol, start=start_date, end=end_date)\n"
     ]
    },
    {
     "name": "stdout",
     "output_type": "stream",
     "text": [
      "Saved MAR data to C:\\Users\\aashi\\GitHub\\My Repositories\\Machine-Learning-Implementation\\Detecting Patterns with Unsupervised Learning\\StockData\\MAR.csv\n"
     ]
    },
    {
     "name": "stderr",
     "output_type": "stream",
     "text": [
      "[*********************100%***********************]  1 of 1 completed\n",
      "C:\\Users\\aashi\\AppData\\Local\\Temp\\ipykernel_29116\\3863911628.py:6: FutureWarning: YF.download() has changed argument auto_adjust default to True\n",
      "  df = yf.download(symbol, start=start_date, end=end_date)\n"
     ]
    },
    {
     "name": "stdout",
     "output_type": "stream",
     "text": [
      "Saved PG data to C:\\Users\\aashi\\GitHub\\My Repositories\\Machine-Learning-Implementation\\Detecting Patterns with Unsupervised Learning\\StockData\\PG.csv\n"
     ]
    },
    {
     "name": "stderr",
     "output_type": "stream",
     "text": [
      "[*********************100%***********************]  1 of 1 completed\n",
      "C:\\Users\\aashi\\AppData\\Local\\Temp\\ipykernel_29116\\3863911628.py:6: FutureWarning: YF.download() has changed argument auto_adjust default to True\n",
      "  df = yf.download(symbol, start=start_date, end=end_date)\n"
     ]
    },
    {
     "name": "stdout",
     "output_type": "stream",
     "text": [
      "Saved CL data to C:\\Users\\aashi\\GitHub\\My Repositories\\Machine-Learning-Implementation\\Detecting Patterns with Unsupervised Learning\\StockData\\CL.csv\n"
     ]
    },
    {
     "name": "stderr",
     "output_type": "stream",
     "text": [
      "[*********************100%***********************]  1 of 1 completed\n",
      "C:\\Users\\aashi\\AppData\\Local\\Temp\\ipykernel_29116\\3863911628.py:6: FutureWarning: YF.download() has changed argument auto_adjust default to True\n",
      "  df = yf.download(symbol, start=start_date, end=end_date)\n"
     ]
    },
    {
     "name": "stdout",
     "output_type": "stream",
     "text": [
      "Saved GE data to C:\\Users\\aashi\\GitHub\\My Repositories\\Machine-Learning-Implementation\\Detecting Patterns with Unsupervised Learning\\StockData\\GE.csv\n"
     ]
    },
    {
     "name": "stderr",
     "output_type": "stream",
     "text": [
      "[*********************100%***********************]  1 of 1 completed\n",
      "C:\\Users\\aashi\\AppData\\Local\\Temp\\ipykernel_29116\\3863911628.py:6: FutureWarning: YF.download() has changed argument auto_adjust default to True\n",
      "  df = yf.download(symbol, start=start_date, end=end_date)\n"
     ]
    },
    {
     "name": "stdout",
     "output_type": "stream",
     "text": [
      "Saved WFC data to C:\\Users\\aashi\\GitHub\\My Repositories\\Machine-Learning-Implementation\\Detecting Patterns with Unsupervised Learning\\StockData\\WFC.csv\n"
     ]
    },
    {
     "name": "stderr",
     "output_type": "stream",
     "text": [
      "[*********************100%***********************]  1 of 1 completed\n",
      "C:\\Users\\aashi\\AppData\\Local\\Temp\\ipykernel_29116\\3863911628.py:6: FutureWarning: YF.download() has changed argument auto_adjust default to True\n",
      "  df = yf.download(symbol, start=start_date, end=end_date)\n"
     ]
    },
    {
     "name": "stdout",
     "output_type": "stream",
     "text": [
      "Saved JPM data to C:\\Users\\aashi\\GitHub\\My Repositories\\Machine-Learning-Implementation\\Detecting Patterns with Unsupervised Learning\\StockData\\JPM.csv\n"
     ]
    },
    {
     "name": "stderr",
     "output_type": "stream",
     "text": [
      "[*********************100%***********************]  1 of 1 completed\n",
      "C:\\Users\\aashi\\AppData\\Local\\Temp\\ipykernel_29116\\3863911628.py:6: FutureWarning: YF.download() has changed argument auto_adjust default to True\n",
      "  df = yf.download(symbol, start=start_date, end=end_date)\n"
     ]
    },
    {
     "name": "stdout",
     "output_type": "stream",
     "text": [
      "Saved AIG data to C:\\Users\\aashi\\GitHub\\My Repositories\\Machine-Learning-Implementation\\Detecting Patterns with Unsupervised Learning\\StockData\\AIG.csv\n"
     ]
    },
    {
     "name": "stderr",
     "output_type": "stream",
     "text": [
      "[*********************100%***********************]  1 of 1 completed\n",
      "C:\\Users\\aashi\\AppData\\Local\\Temp\\ipykernel_29116\\3863911628.py:6: FutureWarning: YF.download() has changed argument auto_adjust default to True\n",
      "  df = yf.download(symbol, start=start_date, end=end_date)\n"
     ]
    },
    {
     "name": "stdout",
     "output_type": "stream",
     "text": [
      "Saved AXP data to C:\\Users\\aashi\\GitHub\\My Repositories\\Machine-Learning-Implementation\\Detecting Patterns with Unsupervised Learning\\StockData\\AXP.csv\n"
     ]
    },
    {
     "name": "stderr",
     "output_type": "stream",
     "text": [
      "[*********************100%***********************]  1 of 1 completed\n",
      "C:\\Users\\aashi\\AppData\\Local\\Temp\\ipykernel_29116\\3863911628.py:6: FutureWarning: YF.download() has changed argument auto_adjust default to True\n",
      "  df = yf.download(symbol, start=start_date, end=end_date)\n"
     ]
    },
    {
     "name": "stdout",
     "output_type": "stream",
     "text": [
      "Saved BAC data to C:\\Users\\aashi\\GitHub\\My Repositories\\Machine-Learning-Implementation\\Detecting Patterns with Unsupervised Learning\\StockData\\BAC.csv\n"
     ]
    },
    {
     "name": "stderr",
     "output_type": "stream",
     "text": [
      "[*********************100%***********************]  1 of 1 completed\n",
      "C:\\Users\\aashi\\AppData\\Local\\Temp\\ipykernel_29116\\3863911628.py:6: FutureWarning: YF.download() has changed argument auto_adjust default to True\n",
      "  df = yf.download(symbol, start=start_date, end=end_date)\n"
     ]
    },
    {
     "name": "stdout",
     "output_type": "stream",
     "text": [
      "Saved GS data to C:\\Users\\aashi\\GitHub\\My Repositories\\Machine-Learning-Implementation\\Detecting Patterns with Unsupervised Learning\\StockData\\GS.csv\n"
     ]
    },
    {
     "name": "stderr",
     "output_type": "stream",
     "text": [
      "[*********************100%***********************]  1 of 1 completed\n",
      "C:\\Users\\aashi\\AppData\\Local\\Temp\\ipykernel_29116\\3863911628.py:6: FutureWarning: YF.download() has changed argument auto_adjust default to True\n",
      "  df = yf.download(symbol, start=start_date, end=end_date)\n"
     ]
    },
    {
     "name": "stdout",
     "output_type": "stream",
     "text": [
      "Saved AAPL data to C:\\Users\\aashi\\GitHub\\My Repositories\\Machine-Learning-Implementation\\Detecting Patterns with Unsupervised Learning\\StockData\\AAPL.csv\n"
     ]
    },
    {
     "name": "stderr",
     "output_type": "stream",
     "text": [
      "[*********************100%***********************]  1 of 1 completed\n",
      "C:\\Users\\aashi\\AppData\\Local\\Temp\\ipykernel_29116\\3863911628.py:6: FutureWarning: YF.download() has changed argument auto_adjust default to True\n",
      "  df = yf.download(symbol, start=start_date, end=end_date)\n"
     ]
    },
    {
     "name": "stdout",
     "output_type": "stream",
     "text": [
      "Saved SAP data to C:\\Users\\aashi\\GitHub\\My Repositories\\Machine-Learning-Implementation\\Detecting Patterns with Unsupervised Learning\\StockData\\SAP.csv\n"
     ]
    },
    {
     "name": "stderr",
     "output_type": "stream",
     "text": [
      "[*********************100%***********************]  1 of 1 completed\n",
      "C:\\Users\\aashi\\AppData\\Local\\Temp\\ipykernel_29116\\3863911628.py:6: FutureWarning: YF.download() has changed argument auto_adjust default to True\n",
      "  df = yf.download(symbol, start=start_date, end=end_date)\n"
     ]
    },
    {
     "name": "stdout",
     "output_type": "stream",
     "text": [
      "Saved CSCO data to C:\\Users\\aashi\\GitHub\\My Repositories\\Machine-Learning-Implementation\\Detecting Patterns with Unsupervised Learning\\StockData\\CSCO.csv\n"
     ]
    },
    {
     "name": "stderr",
     "output_type": "stream",
     "text": [
      "[*********************100%***********************]  1 of 1 completed\n",
      "C:\\Users\\aashi\\AppData\\Local\\Temp\\ipykernel_29116\\3863911628.py:6: FutureWarning: YF.download() has changed argument auto_adjust default to True\n",
      "  df = yf.download(symbol, start=start_date, end=end_date)\n"
     ]
    },
    {
     "name": "stdout",
     "output_type": "stream",
     "text": [
      "Saved TXN data to C:\\Users\\aashi\\GitHub\\My Repositories\\Machine-Learning-Implementation\\Detecting Patterns with Unsupervised Learning\\StockData\\TXN.csv\n"
     ]
    },
    {
     "name": "stderr",
     "output_type": "stream",
     "text": [
      "[*********************100%***********************]  1 of 1 completed\n",
      "C:\\Users\\aashi\\AppData\\Local\\Temp\\ipykernel_29116\\3863911628.py:6: FutureWarning: YF.download() has changed argument auto_adjust default to True\n",
      "  df = yf.download(symbol, start=start_date, end=end_date)\n"
     ]
    },
    {
     "name": "stdout",
     "output_type": "stream",
     "text": [
      "Saved XRX data to C:\\Users\\aashi\\GitHub\\My Repositories\\Machine-Learning-Implementation\\Detecting Patterns with Unsupervised Learning\\StockData\\XRX.csv\n"
     ]
    },
    {
     "name": "stderr",
     "output_type": "stream",
     "text": [
      "[*********************100%***********************]  1 of 1 completed\n",
      "C:\\Users\\aashi\\AppData\\Local\\Temp\\ipykernel_29116\\3863911628.py:6: FutureWarning: YF.download() has changed argument auto_adjust default to True\n",
      "  df = yf.download(symbol, start=start_date, end=end_date)\n"
     ]
    },
    {
     "name": "stdout",
     "output_type": "stream",
     "text": [
      "Saved LMT data to C:\\Users\\aashi\\GitHub\\My Repositories\\Machine-Learning-Implementation\\Detecting Patterns with Unsupervised Learning\\StockData\\LMT.csv\n"
     ]
    },
    {
     "name": "stderr",
     "output_type": "stream",
     "text": [
      "[*********************100%***********************]  1 of 1 completed\n",
      "C:\\Users\\aashi\\AppData\\Local\\Temp\\ipykernel_29116\\3863911628.py:6: FutureWarning: YF.download() has changed argument auto_adjust default to True\n",
      "  df = yf.download(symbol, start=start_date, end=end_date)\n"
     ]
    },
    {
     "name": "stdout",
     "output_type": "stream",
     "text": [
      "Saved WMT data to C:\\Users\\aashi\\GitHub\\My Repositories\\Machine-Learning-Implementation\\Detecting Patterns with Unsupervised Learning\\StockData\\WMT.csv\n"
     ]
    },
    {
     "name": "stderr",
     "output_type": "stream",
     "text": [
      "[*********************100%***********************]  1 of 1 completed\n",
      "C:\\Users\\aashi\\AppData\\Local\\Temp\\ipykernel_29116\\3863911628.py:6: FutureWarning: YF.download() has changed argument auto_adjust default to True\n",
      "  df = yf.download(symbol, start=start_date, end=end_date)\n"
     ]
    },
    {
     "name": "stdout",
     "output_type": "stream",
     "text": [
      "Saved WBA data to C:\\Users\\aashi\\GitHub\\My Repositories\\Machine-Learning-Implementation\\Detecting Patterns with Unsupervised Learning\\StockData\\WBA.csv\n"
     ]
    },
    {
     "name": "stderr",
     "output_type": "stream",
     "text": [
      "[*********************100%***********************]  1 of 1 completed\n",
      "C:\\Users\\aashi\\AppData\\Local\\Temp\\ipykernel_29116\\3863911628.py:6: FutureWarning: YF.download() has changed argument auto_adjust default to True\n",
      "  df = yf.download(symbol, start=start_date, end=end_date)\n"
     ]
    },
    {
     "name": "stdout",
     "output_type": "stream",
     "text": [
      "Saved HD data to C:\\Users\\aashi\\GitHub\\My Repositories\\Machine-Learning-Implementation\\Detecting Patterns with Unsupervised Learning\\StockData\\HD.csv\n"
     ]
    },
    {
     "name": "stderr",
     "output_type": "stream",
     "text": [
      "[*********************100%***********************]  1 of 1 completed\n",
      "C:\\Users\\aashi\\AppData\\Local\\Temp\\ipykernel_29116\\3863911628.py:6: FutureWarning: YF.download() has changed argument auto_adjust default to True\n",
      "  df = yf.download(symbol, start=start_date, end=end_date)\n"
     ]
    },
    {
     "name": "stdout",
     "output_type": "stream",
     "text": [
      "Saved GSK data to C:\\Users\\aashi\\GitHub\\My Repositories\\Machine-Learning-Implementation\\Detecting Patterns with Unsupervised Learning\\StockData\\GSK.csv\n"
     ]
    },
    {
     "name": "stderr",
     "output_type": "stream",
     "text": [
      "[*********************100%***********************]  1 of 1 completed\n",
      "C:\\Users\\aashi\\AppData\\Local\\Temp\\ipykernel_29116\\3863911628.py:6: FutureWarning: YF.download() has changed argument auto_adjust default to True\n",
      "  df = yf.download(symbol, start=start_date, end=end_date)\n"
     ]
    },
    {
     "name": "stdout",
     "output_type": "stream",
     "text": [
      "Saved PFE data to C:\\Users\\aashi\\GitHub\\My Repositories\\Machine-Learning-Implementation\\Detecting Patterns with Unsupervised Learning\\StockData\\PFE.csv\n"
     ]
    },
    {
     "name": "stderr",
     "output_type": "stream",
     "text": [
      "[*********************100%***********************]  1 of 1 completed\n",
      "C:\\Users\\aashi\\AppData\\Local\\Temp\\ipykernel_29116\\3863911628.py:6: FutureWarning: YF.download() has changed argument auto_adjust default to True\n",
      "  df = yf.download(symbol, start=start_date, end=end_date)\n"
     ]
    },
    {
     "name": "stdout",
     "output_type": "stream",
     "text": [
      "Saved SNY data to C:\\Users\\aashi\\GitHub\\My Repositories\\Machine-Learning-Implementation\\Detecting Patterns with Unsupervised Learning\\StockData\\SNY.csv\n"
     ]
    },
    {
     "name": "stderr",
     "output_type": "stream",
     "text": [
      "[*********************100%***********************]  1 of 1 completed\n",
      "C:\\Users\\aashi\\AppData\\Local\\Temp\\ipykernel_29116\\3863911628.py:6: FutureWarning: YF.download() has changed argument auto_adjust default to True\n",
      "  df = yf.download(symbol, start=start_date, end=end_date)\n"
     ]
    },
    {
     "name": "stdout",
     "output_type": "stream",
     "text": [
      "Saved NVS data to C:\\Users\\aashi\\GitHub\\My Repositories\\Machine-Learning-Implementation\\Detecting Patterns with Unsupervised Learning\\StockData\\NVS.csv\n"
     ]
    },
    {
     "name": "stderr",
     "output_type": "stream",
     "text": [
      "[*********************100%***********************]  1 of 1 completed\n",
      "C:\\Users\\aashi\\AppData\\Local\\Temp\\ipykernel_29116\\3863911628.py:6: FutureWarning: YF.download() has changed argument auto_adjust default to True\n",
      "  df = yf.download(symbol, start=start_date, end=end_date)\n",
      "[*********************100%***********************]  1 of 1 completed\n",
      "C:\\Users\\aashi\\AppData\\Local\\Temp\\ipykernel_29116\\3863911628.py:6: FutureWarning: YF.download() has changed argument auto_adjust default to True\n",
      "  df = yf.download(symbol, start=start_date, end=end_date)\n",
      "[*********************100%***********************]  1 of 1 completed\n",
      "C:\\Users\\aashi\\AppData\\Local\\Temp\\ipykernel_29116\\3863911628.py:6: FutureWarning: YF.download() has changed argument auto_adjust default to True\n",
      "  df = yf.download(symbol, start=start_date, end=end_date)\n",
      "[*********************100%***********************]  1 of 1 completed\n",
      "\n",
      "1 Failed download:\n",
      "['RTN']: YFTzMissingError('possibly delisted; no timezone found')\n",
      "C:\\Users\\aashi\\AppData\\Local\\Temp\\ipykernel_29116\\3863911628.py:6: FutureWarning: YF.download() has changed argument auto_adjust default to True\n",
      "  df = yf.download(symbol, start=start_date, end=end_date)\n",
      "[*********************100%***********************]  1 of 1 completed\n",
      "C:\\Users\\aashi\\AppData\\Local\\Temp\\ipykernel_29116\\3863911628.py:6: FutureWarning: YF.download() has changed argument auto_adjust default to True\n",
      "  df = yf.download(symbol, start=start_date, end=end_date)\n",
      "[*********************100%***********************]  1 of 1 completed"
     ]
    },
    {
     "name": "stdout",
     "output_type": "stream",
     "text": [
      "Saved KMB data to C:\\Users\\aashi\\GitHub\\My Repositories\\Machine-Learning-Implementation\\Detecting Patterns with Unsupervised Learning\\StockData\\KMB.csv\n",
      "Saved R data to C:\\Users\\aashi\\GitHub\\My Repositories\\Machine-Learning-Implementation\\Detecting Patterns with Unsupervised Learning\\StockData\\R.csv\n",
      "Saved GD data to C:\\Users\\aashi\\GitHub\\My Repositories\\Machine-Learning-Implementation\\Detecting Patterns with Unsupervised Learning\\StockData\\GD.csv\n",
      "Saved RTN data to C:\\Users\\aashi\\GitHub\\My Repositories\\Machine-Learning-Implementation\\Detecting Patterns with Unsupervised Learning\\StockData\\RTN.csv\n",
      "Saved CVS data to C:\\Users\\aashi\\GitHub\\My Repositories\\Machine-Learning-Implementation\\Detecting Patterns with Unsupervised Learning\\StockData\\CVS.csv\n",
      "Saved CAT data to C:\\Users\\aashi\\GitHub\\My Repositories\\Machine-Learning-Implementation\\Detecting Patterns with Unsupervised Learning\\StockData\\CAT.csv\n"
     ]
    },
    {
     "name": "stderr",
     "output_type": "stream",
     "text": [
      "\n",
      "C:\\Users\\aashi\\AppData\\Local\\Temp\\ipykernel_29116\\3863911628.py:6: FutureWarning: YF.download() has changed argument auto_adjust default to True\n",
      "  df = yf.download(symbol, start=start_date, end=end_date)\n",
      "[*********************100%***********************]  1 of 1 completed\n"
     ]
    },
    {
     "name": "stdout",
     "output_type": "stream",
     "text": [
      "Saved DD data to C:\\Users\\aashi\\GitHub\\My Repositories\\Machine-Learning-Implementation\\Detecting Patterns with Unsupervised Learning\\StockData\\DD.csv\n"
     ]
    }
   ],
   "source": [
    "# Download and save each symbol's data\n",
    "for symbol in symbols:\n",
    "    df = yf.download(symbol, start=start_date, end=end_date)\n",
    "    file_path = os.path.join(download_path, f\"{symbol}.csv\")\n",
    "    df.to_csv(file_path)\n",
    "    print(f\"Saved {symbol} data to {file_path}\")"
   ]
  },
  {
   "cell_type": "code",
   "execution_count": 19,
   "id": "9fedda29",
   "metadata": {},
   "outputs": [
    {
     "data": {
      "application/vnd.microsoft.datawrangler.viewer.v0+json": {
       "columns": [
        {
         "name": "Date",
         "rawType": "datetime64[ns]",
         "type": "datetime"
        },
        {
         "name": "('Close', 'AAPL')",
         "rawType": "float64",
         "type": "float"
        },
        {
         "name": "('High', 'AAPL')",
         "rawType": "float64",
         "type": "float"
        },
        {
         "name": "('Low', 'AAPL')",
         "rawType": "float64",
         "type": "float"
        },
        {
         "name": "('Open', 'AAPL')",
         "rawType": "float64",
         "type": "float"
        },
        {
         "name": "('Volume', 'AAPL')",
         "rawType": "int64",
         "type": "integer"
        }
       ],
       "ref": "6b6d77d0-6275-48b5-af4b-b62acb054911",
       "rows": [
        [
         "2003-07-03 00:00:00",
         "0.2874680459499359",
         "0.2937794162107828",
         "0.28521445806371953",
         "0.285514881274405",
         "137771200"
        ],
        [
         "2003-07-07 00:00:00",
         "0.2985879182815552",
         "0.30324654825514097",
         "0.2874681186146342",
         "0.28957190923336845",
         "286272000"
        ],
        [
         "2003-07-08 00:00:00",
         "0.306552916765213",
         "0.30805500827623455",
         "0.29287825123444866",
         "0.2933284724052814",
         "256737600"
        ],
        [
         "2003-07-09 00:00:00",
         "0.29888924956321716",
         "0.30730441359521293",
         "0.29888924956321716",
         "0.30369767826363964",
         "213645600"
        ],
        [
         "2003-07-10 00:00:00",
         "0.2942306697368622",
         "0.2996399465205543",
         "0.2910749824087995",
         "0.29873867626084794",
         "170934400"
        ],
        [
         "2003-07-11 00:00:00",
         "0.298287570476532",
         "0.300542012194407",
         "0.29347914144904186",
         "0.2954323071125318",
         "136858400"
        ],
        [
         "2003-07-14 00:00:00",
         "0.2990391254425049",
         "0.306553047117452",
         "0.298588076467431",
         "0.30069186820071125",
         "188406400"
        ],
        [
         "2003-07-15 00:00:00",
         "0.2946815490722656",
         "0.3041486306869498",
         "0.2919760846247937",
         "0.3008422946663253",
         "206645600"
        ],
        [
         "2003-07-16 00:00:00",
         "0.2985879182815552",
         "0.30054193614231933",
         "0.2912246511159854",
         "0.3000908623270396",
         "250930400"
        ],
        [
         "2003-07-17 00:00:00",
         "0.3140661120414734",
         "0.3148175844526184",
         "0.3024952325787972",
         "0.30339735559646164",
         "751212000"
        ],
        [
         "2003-07-18 00:00:00",
         "0.3134652078151703",
         "0.3182736372315426",
         "0.3065529870775555",
         "0.3140660545890578",
         "298838400"
        ],
        [
         "2003-07-21 00:00:00",
         "0.30970871448516846",
         "0.31256397845278105",
         "0.3050500823478666",
         "0.3109104081897985",
         "183808800"
        ],
        [
         "2003-07-22 00:00:00",
         "0.3125639259815216",
         "0.31496814059992145",
         "0.30805506742867106",
         "0.3136158216028594",
         "198424800"
        ],
        [
         "2003-07-23 00:00:00",
         "0.31241321563720703",
         "0.31496805505588776",
         "0.30745416225310107",
         "0.31481742960263226",
         "143035200"
        ],
        [
         "2003-07-24 00:00:00",
         "0.3082057237625122",
         "0.3230829133126372",
         "0.3062525579774959",
         "0.31616984001217824",
         "229236000"
        ],
        [
         "2003-07-25 00:00:00",
         "0.3236837685108185",
         "0.3241348425150131",
         "0.3065530130997656",
         "0.3067028109996352",
         "216686400"
        ],
        [
         "2003-07-28 00:00:00",
         "0.31541839241981506",
         "0.3230829385793387",
         "0.3134652264820514",
         "0.3230829385793387",
         "170357600"
        ],
        [
         "2003-07-29 00:00:00",
         "0.31136131286621094",
         "0.31677141486850907",
         "0.3083562523842858",
         "0.31541826865866396",
         "197120000"
        ],
        [
         "2003-07-30 00:00:00",
         "0.30474957823753357",
         "0.3140660124328144",
         "0.30309683602486803",
         "0.31211284687353014",
         "173594400"
        ],
        [
         "2003-07-31 00:00:00",
         "0.3167714774608612",
         "0.3208284340549472",
         "0.3091069578733805",
         "0.3116617977358741",
         "301464800"
        ],
        [
         "2003-08-01 00:00:00",
         "0.3115120828151703",
         "0.31962599816383114",
         "0.3101589359776488",
         "0.31556904048950074",
         "149604000"
        ],
        [
         "2003-08-04 00:00:00",
         "0.3187246322631836",
         "0.32308286474821607",
         "0.3047495676495392",
         "0.3085061007705467",
         "230115200"
        ],
        [
         "2003-08-05 00:00:00",
         "0.30625250935554504",
         "0.32157989265875786",
         "0.3020449274595659",
         "0.32082842051840593",
         "249440800"
        ],
        [
         "2003-08-06 00:00:00",
         "0.29498207569122314",
         "0.3030968417319925",
         "0.2930280824826213",
         "0.30144324679649825",
         "245464800"
        ],
        [
         "2003-08-07 00:00:00",
         "0.29948991537094116",
         "0.3018941284704576",
         "0.2918262274874567",
         "0.29648402828748377",
         "174378400"
        ],
        [
         "2003-08-08 00:00:00",
         "0.2951318621635437",
         "0.3024951306538277",
         "0.2945310154821965",
         "0.3021947073131541",
         "137659200"
        ],
        [
         "2003-08-11 00:00:00",
         "0.29543235898017883",
         "0.2994901441197421",
         "0.29317876955838995",
         "0.2978374266079082",
         "137228000"
        ],
        [
         "2003-08-12 00:00:00",
         "0.2960340082645416",
         "0.29753612521383516",
         "0.29242727236094873",
         "0.29693527843411777",
         "164438400"
        ],
        [
         "2003-08-13 00:00:00",
         "0.30324670672416687",
         "0.3056509218859078",
         "0.2942306929644404",
         "0.29843827640068504",
         "284099200"
        ],
        [
         "2003-08-14 00:00:00",
         "0.30009087920188904",
         "0.30550100658160423",
         "0.29963983044040815",
         "0.3036976391480871",
         "192780000"
        ],
        [
         "2003-08-15 00:00:00",
         "0.2961837649345398",
         "0.30159389311619617",
         "0.29543229275815003",
         "0.3008423958606388",
         "125865600"
        ],
        [
         "2003-08-18 00:00:00",
         "0.3056507110595703",
         "0.30670263127223213",
         "0.296334280282348",
         "0.2984380705493551",
         "192774400"
        ],
        [
         "2003-08-19 00:00:00",
         "0.30535030364990234",
         "0.30730429604561327",
         "0.30054187678879246",
         "0.30610177552423756",
         "133688800"
        ],
        [
         "2003-08-20 00:00:00",
         "0.3157196044921875",
         "0.31962593588585475",
         "0.30264580851215317",
         "0.3032466301685353",
         "273212800"
        ],
        [
         "2003-08-21 00:00:00",
         "0.3257874846458435",
         "0.32623855854569067",
         "0.3148174807593962",
         "0.3160200017437046",
         "255326400"
        ],
        [
         "2003-08-22 00:00:00",
         "0.31376564502716064",
         "0.33059597633867294",
         "0.3101589089996444",
         "0.3277407126179453",
         "250264000"
        ],
        [
         "2003-08-25 00:00:00",
         "0.3134652078151703",
         "0.3142166800888478",
         "0.3079053061251205",
         "0.3122626866547591",
         "137782400"
        ],
        [
         "2003-08-26 00:00:00",
         "0.31632038950920105",
         "0.31662081281835996",
         "0.30580143562653034",
         "0.3118123846469739",
         "164959200"
        ],
        [
         "2003-08-27 00:00:00",
         "0.32278168201446533",
         "0.32278168201446533",
         "0.31046018360725924",
         "0.31421671781402366",
         "225702400"
        ],
        [
         "2003-08-28 00:00:00",
         "0.3334512710571289",
         "0.3339023199717424",
         "0.320528073864763",
         "0.320528073864763",
         "319625600"
        ],
        [
         "2003-08-29 00:00:00",
         "0.3397626578807831",
         "0.3433693941046895",
         "0.3313474917668133",
         "0.33360190880993423",
         "263155200"
        ],
        [
         "2003-09-02 00:00:00",
         "0.34336933493614197",
         "0.3441208071543571",
         "0.33660691258478065",
         "0.3405140715519544",
         "242132800"
        ],
        [
         "2003-09-03 00:00:00",
         "0.3448714017868042",
         "0.3504321549524758",
         "0.34201696642881046",
         "0.3426178130712875",
         "268828000"
        ],
        [
         "2003-09-04 00:00:00",
         "0.34306880831718445",
         "0.34938020499471545",
         "0.3421667108818025",
         "0.3480270337624811",
         "199780000"
        ],
        [
         "2003-09-05 00:00:00",
         "0.3381098210811615",
         "0.34787730365455455",
         "0.3367575022771516",
         "0.34156593082751713",
         "240133600"
        ],
        [
         "2003-09-08 00:00:00",
         "0.3417157232761383",
         "0.3424671954025736",
         "0.3376587669283564",
         "0.3378093923986331",
         "167244000"
        ],
        [
         "2003-09-09 00:00:00",
         "0.3361557424068451",
         "0.34066374647654335",
         "0.3323992102841426",
         "0.3385599560698657",
         "180370400"
        ],
        [
         "2003-09-10 00:00:00",
         "0.33330053091049194",
         "0.3397625541162492",
         "0.33224863546749783",
         "0.33435242635348605",
         "224890400"
        ],
        [
         "2003-09-11 00:00:00",
         "0.33901119232177734",
         "0.3424673031002639",
         "0.3320989707648042",
         "0.3343525351611618",
         "213684800"
        ],
        [
         "2003-09-12 00:00:00",
         "0.3471258580684662",
         "0.34772670478009987",
         "0.33525458364467337",
         "0.3382596448153923",
         "179989600"
        ]
       ],
       "shape": {
        "columns": 5,
        "rows": 965
       }
      },
      "text/html": [
       "<div>\n",
       "<style scoped>\n",
       "    .dataframe tbody tr th:only-of-type {\n",
       "        vertical-align: middle;\n",
       "    }\n",
       "\n",
       "    .dataframe tbody tr th {\n",
       "        vertical-align: top;\n",
       "    }\n",
       "\n",
       "    .dataframe thead tr th {\n",
       "        text-align: left;\n",
       "    }\n",
       "\n",
       "    .dataframe thead tr:last-of-type th {\n",
       "        text-align: right;\n",
       "    }\n",
       "</style>\n",
       "<table border=\"1\" class=\"dataframe\">\n",
       "  <thead>\n",
       "    <tr>\n",
       "      <th>Price</th>\n",
       "      <th>Close</th>\n",
       "      <th>High</th>\n",
       "      <th>Low</th>\n",
       "      <th>Open</th>\n",
       "      <th>Volume</th>\n",
       "    </tr>\n",
       "    <tr>\n",
       "      <th>Ticker</th>\n",
       "      <th>AAPL</th>\n",
       "      <th>AAPL</th>\n",
       "      <th>AAPL</th>\n",
       "      <th>AAPL</th>\n",
       "      <th>AAPL</th>\n",
       "    </tr>\n",
       "    <tr>\n",
       "      <th>Date</th>\n",
       "      <th></th>\n",
       "      <th></th>\n",
       "      <th></th>\n",
       "      <th></th>\n",
       "      <th></th>\n",
       "    </tr>\n",
       "  </thead>\n",
       "  <tbody>\n",
       "    <tr>\n",
       "      <th>2003-07-03</th>\n",
       "      <td>0.287468</td>\n",
       "      <td>0.293779</td>\n",
       "      <td>0.285214</td>\n",
       "      <td>0.285515</td>\n",
       "      <td>137771200</td>\n",
       "    </tr>\n",
       "    <tr>\n",
       "      <th>2003-07-07</th>\n",
       "      <td>0.298588</td>\n",
       "      <td>0.303247</td>\n",
       "      <td>0.287468</td>\n",
       "      <td>0.289572</td>\n",
       "      <td>286272000</td>\n",
       "    </tr>\n",
       "    <tr>\n",
       "      <th>2003-07-08</th>\n",
       "      <td>0.306553</td>\n",
       "      <td>0.308055</td>\n",
       "      <td>0.292878</td>\n",
       "      <td>0.293328</td>\n",
       "      <td>256737600</td>\n",
       "    </tr>\n",
       "    <tr>\n",
       "      <th>2003-07-09</th>\n",
       "      <td>0.298889</td>\n",
       "      <td>0.307304</td>\n",
       "      <td>0.298889</td>\n",
       "      <td>0.303698</td>\n",
       "      <td>213645600</td>\n",
       "    </tr>\n",
       "    <tr>\n",
       "      <th>2003-07-10</th>\n",
       "      <td>0.294231</td>\n",
       "      <td>0.299640</td>\n",
       "      <td>0.291075</td>\n",
       "      <td>0.298739</td>\n",
       "      <td>170934400</td>\n",
       "    </tr>\n",
       "    <tr>\n",
       "      <th>...</th>\n",
       "      <td>...</td>\n",
       "      <td>...</td>\n",
       "      <td>...</td>\n",
       "      <td>...</td>\n",
       "      <td>...</td>\n",
       "    </tr>\n",
       "    <tr>\n",
       "      <th>2007-04-27</th>\n",
       "      <td>3.003014</td>\n",
       "      <td>3.003916</td>\n",
       "      <td>2.935994</td>\n",
       "      <td>2.950721</td>\n",
       "      <td>699403600</td>\n",
       "    </tr>\n",
       "    <tr>\n",
       "      <th>2007-04-30</th>\n",
       "      <td>2.999409</td>\n",
       "      <td>3.035474</td>\n",
       "      <td>2.995502</td>\n",
       "      <td>3.008124</td>\n",
       "      <td>616509600</td>\n",
       "    </tr>\n",
       "    <tr>\n",
       "      <th>2007-05-01</th>\n",
       "      <td>2.989489</td>\n",
       "      <td>3.015937</td>\n",
       "      <td>2.961840</td>\n",
       "      <td>2.993096</td>\n",
       "      <td>532523600</td>\n",
       "    </tr>\n",
       "    <tr>\n",
       "      <th>2007-05-02</th>\n",
       "      <td>3.017140</td>\n",
       "      <td>3.021648</td>\n",
       "      <td>2.989491</td>\n",
       "      <td>2.994901</td>\n",
       "      <td>505145200</td>\n",
       "    </tr>\n",
       "    <tr>\n",
       "      <th>2007-05-03</th>\n",
       "      <td>3.017440</td>\n",
       "      <td>3.048997</td>\n",
       "      <td>3.005719</td>\n",
       "      <td>3.027358</td>\n",
       "      <td>576077600</td>\n",
       "    </tr>\n",
       "  </tbody>\n",
       "</table>\n",
       "<p>965 rows × 5 columns</p>\n",
       "</div>"
      ],
      "text/plain": [
       "Price          Close      High       Low      Open     Volume\n",
       "Ticker          AAPL      AAPL      AAPL      AAPL       AAPL\n",
       "Date                                                         \n",
       "2003-07-03  0.287468  0.293779  0.285214  0.285515  137771200\n",
       "2003-07-07  0.298588  0.303247  0.287468  0.289572  286272000\n",
       "2003-07-08  0.306553  0.308055  0.292878  0.293328  256737600\n",
       "2003-07-09  0.298889  0.307304  0.298889  0.303698  213645600\n",
       "2003-07-10  0.294231  0.299640  0.291075  0.298739  170934400\n",
       "...              ...       ...       ...       ...        ...\n",
       "2007-04-27  3.003014  3.003916  2.935994  2.950721  699403600\n",
       "2007-04-30  2.999409  3.035474  2.995502  3.008124  616509600\n",
       "2007-05-01  2.989489  3.015937  2.961840  2.993096  532523600\n",
       "2007-05-02  3.017140  3.021648  2.989491  2.994901  505145200\n",
       "2007-05-03  3.017440  3.048997  3.005719  3.027358  576077600\n",
       "\n",
       "[965 rows x 5 columns]"
      ]
     },
     "execution_count": 19,
     "metadata": {},
     "output_type": "execute_result"
    }
   ],
   "source": [
    "df"
   ]
  },
  {
   "cell_type": "markdown",
   "id": "05104892",
   "metadata": {},
   "source": [
    "# Extract opening and closing quotes\n",
    "Compute the difference between opening and closing quotes:"
   ]
  },
  {
   "cell_type": "code",
   "execution_count": 30,
   "id": "4ab5e047",
   "metadata": {},
   "outputs": [
    {
     "ename": "IndexError",
     "evalue": "single positional indexer is out-of-bounds",
     "output_type": "error",
     "traceback": [
      "\u001b[31m---------------------------------------------------------------------------\u001b[39m",
      "\u001b[31mIndexError\u001b[39m                                Traceback (most recent call last)",
      "\u001b[36mCell\u001b[39m\u001b[36m \u001b[39m\u001b[32mIn[30]\u001b[39m\u001b[32m, line 3\u001b[39m\n\u001b[32m      1\u001b[39m \u001b[38;5;66;03m# opening_quotes = np.array([quote.open for quote in quotes]).astype(np.float)\u001b[39;00m\n\u001b[32m      2\u001b[39m \u001b[38;5;66;03m# closing_quotes = np.array([quote.close for quote in quotes]).astype(np.float)\u001b[39;00m\n\u001b[32m----> \u001b[39m\u001b[32m3\u001b[39m opening_quotes = np.array([\u001b[43mquote\u001b[49m\u001b[43m[\u001b[49m\u001b[33;43m'\u001b[39;49m\u001b[33;43mOpen\u001b[39;49m\u001b[33;43m'\u001b[39;49m\u001b[43m]\u001b[49m\u001b[43m.\u001b[49m\u001b[43miloc\u001b[49m\u001b[43m[\u001b[49m\u001b[32;43m0\u001b[39;49m\u001b[43m]\u001b[49m \u001b[38;5;28;01mfor\u001b[39;00m quote \u001b[38;5;129;01min\u001b[39;00m quotes], dtype=\u001b[38;5;28mfloat\u001b[39m)\n\u001b[32m      4\u001b[39m closing_quotes = np.array([quote[\u001b[33m'\u001b[39m\u001b[33mClose\u001b[39m\u001b[33m'\u001b[39m].iloc[-\u001b[32m1\u001b[39m] \u001b[38;5;28;01mfor\u001b[39;00m quote \u001b[38;5;129;01min\u001b[39;00m quotes], dtype=\u001b[38;5;28mfloat\u001b[39m)\n",
      "\u001b[36mFile \u001b[39m\u001b[32mc:\\Users\\aashi\\GitHub\\9781786464392\\venv\\Lib\\site-packages\\pandas\\core\\indexing.py:1191\u001b[39m, in \u001b[36m_LocationIndexer.__getitem__\u001b[39m\u001b[34m(self, key)\u001b[39m\n\u001b[32m   1189\u001b[39m maybe_callable = com.apply_if_callable(key, \u001b[38;5;28mself\u001b[39m.obj)\n\u001b[32m   1190\u001b[39m maybe_callable = \u001b[38;5;28mself\u001b[39m._check_deprecated_callable_usage(key, maybe_callable)\n\u001b[32m-> \u001b[39m\u001b[32m1191\u001b[39m \u001b[38;5;28;01mreturn\u001b[39;00m \u001b[38;5;28;43mself\u001b[39;49m\u001b[43m.\u001b[49m\u001b[43m_getitem_axis\u001b[49m\u001b[43m(\u001b[49m\u001b[43mmaybe_callable\u001b[49m\u001b[43m,\u001b[49m\u001b[43m \u001b[49m\u001b[43maxis\u001b[49m\u001b[43m=\u001b[49m\u001b[43maxis\u001b[49m\u001b[43m)\u001b[49m\n",
      "\u001b[36mFile \u001b[39m\u001b[32mc:\\Users\\aashi\\GitHub\\9781786464392\\venv\\Lib\\site-packages\\pandas\\core\\indexing.py:1752\u001b[39m, in \u001b[36m_iLocIndexer._getitem_axis\u001b[39m\u001b[34m(self, key, axis)\u001b[39m\n\u001b[32m   1749\u001b[39m     \u001b[38;5;28;01mraise\u001b[39;00m \u001b[38;5;167;01mTypeError\u001b[39;00m(\u001b[33m\"\u001b[39m\u001b[33mCannot index by location index with a non-integer key\u001b[39m\u001b[33m\"\u001b[39m)\n\u001b[32m   1751\u001b[39m \u001b[38;5;66;03m# validate the location\u001b[39;00m\n\u001b[32m-> \u001b[39m\u001b[32m1752\u001b[39m \u001b[38;5;28;43mself\u001b[39;49m\u001b[43m.\u001b[49m\u001b[43m_validate_integer\u001b[49m\u001b[43m(\u001b[49m\u001b[43mkey\u001b[49m\u001b[43m,\u001b[49m\u001b[43m \u001b[49m\u001b[43maxis\u001b[49m\u001b[43m)\u001b[49m\n\u001b[32m   1754\u001b[39m \u001b[38;5;28;01mreturn\u001b[39;00m \u001b[38;5;28mself\u001b[39m.obj._ixs(key, axis=axis)\n",
      "\u001b[36mFile \u001b[39m\u001b[32mc:\\Users\\aashi\\GitHub\\9781786464392\\venv\\Lib\\site-packages\\pandas\\core\\indexing.py:1685\u001b[39m, in \u001b[36m_iLocIndexer._validate_integer\u001b[39m\u001b[34m(self, key, axis)\u001b[39m\n\u001b[32m   1683\u001b[39m len_axis = \u001b[38;5;28mlen\u001b[39m(\u001b[38;5;28mself\u001b[39m.obj._get_axis(axis))\n\u001b[32m   1684\u001b[39m \u001b[38;5;28;01mif\u001b[39;00m key >= len_axis \u001b[38;5;129;01mor\u001b[39;00m key < -len_axis:\n\u001b[32m-> \u001b[39m\u001b[32m1685\u001b[39m     \u001b[38;5;28;01mraise\u001b[39;00m \u001b[38;5;167;01mIndexError\u001b[39;00m(\u001b[33m\"\u001b[39m\u001b[33msingle positional indexer is out-of-bounds\u001b[39m\u001b[33m\"\u001b[39m)\n",
      "\u001b[31mIndexError\u001b[39m: single positional indexer is out-of-bounds"
     ]
    }
   ],
   "source": [
    "# opening_quotes = np.array([quote.open for quote in quotes]).astype(np.float)\n",
    "# closing_quotes = np.array([quote.close for quote in quotes]).astype(np.float)\n",
    "opening_quotes = np.array([quote['Open'].iloc[0] for quote in quotes], dtype=float)\n",
    "closing_quotes = np.array([quote['Close'].iloc[-1] for quote in quotes], dtype=float)"
   ]
  },
  {
   "cell_type": "code",
   "execution_count": 32,
   "id": "70acec81",
   "metadata": {},
   "outputs": [],
   "source": [
    "opening_quotes = []\n",
    "closing_quotes = []\n",
    "\n",
    "for quote in quotes:\n",
    "    if not quote.empty and 'Open' in quote.columns and 'Close' in quote.columns:\n",
    "        open_val = quote['Open'].iloc[0]\n",
    "        close_val = quote['Close'].iloc[-1]\n",
    "        if np.isscalar(open_val) and np.isscalar(close_val):\n",
    "            opening_quotes.append(open_val)\n",
    "            closing_quotes.append(close_val)\n",
    "        else:\n",
    "            opening_quotes.append(np.nan)\n",
    "            closing_quotes.append(np.nan)\n",
    "    else:\n",
    "        opening_quotes.append(np.nan)\n",
    "        closing_quotes.append(np.nan)\n",
    "\n",
    "# Now convert to arrays\n",
    "opening_quotes = np.array(opening_quotes, dtype=float)\n",
    "closing_quotes = np.array(closing_quotes, dtype=float)\n"
   ]
  },
  {
   "cell_type": "code",
   "execution_count": 33,
   "id": "53005f98",
   "metadata": {},
   "outputs": [
    {
     "data": {
      "text/plain": [
       "array([nan, nan, nan, nan, nan, nan, nan, nan, nan, nan, nan, nan, nan,\n",
       "       nan, nan, nan, nan, nan, nan, nan, nan, nan, nan, nan, nan, nan,\n",
       "       nan, nan, nan, nan, nan, nan, nan, nan, nan, nan, nan, nan, nan,\n",
       "       nan, nan, nan, nan, nan, nan, nan, nan, nan, nan, nan, nan, nan,\n",
       "       nan, nan, nan, nan, nan, nan, nan, nan])"
      ]
     },
     "execution_count": 33,
     "metadata": {},
     "output_type": "execute_result"
    }
   ],
   "source": [
    "opening_quotes"
   ]
  },
  {
   "cell_type": "code",
   "execution_count": 34,
   "id": "7d185e9b",
   "metadata": {},
   "outputs": [
    {
     "data": {
      "text/plain": [
       "array([nan, nan, nan, nan, nan, nan, nan, nan, nan, nan, nan, nan, nan,\n",
       "       nan, nan, nan, nan, nan, nan, nan, nan, nan, nan, nan, nan, nan,\n",
       "       nan, nan, nan, nan, nan, nan, nan, nan, nan, nan, nan, nan, nan,\n",
       "       nan, nan, nan, nan, nan, nan, nan, nan, nan, nan, nan, nan, nan,\n",
       "       nan, nan, nan, nan, nan, nan, nan, nan])"
      ]
     },
     "execution_count": 34,
     "metadata": {},
     "output_type": "execute_result"
    }
   ],
   "source": [
    "closing_quotes"
   ]
  },
  {
   "cell_type": "markdown",
   "id": "1985794b",
   "metadata": {},
   "source": [
    "# Compute differences between opening and closing quotes "
   ]
  },
  {
   "cell_type": "code",
   "execution_count": null,
   "id": "ed8ea940",
   "metadata": {},
   "outputs": [],
   "source": [
    "quotes_diff = closing_quotes - opening_quotes"
   ]
  },
  {
   "cell_type": "markdown",
   "id": "66f5bd9d",
   "metadata": {},
   "source": [
    "# Normalize the data "
   ]
  },
  {
   "cell_type": "code",
   "execution_count": null,
   "id": "93921cca",
   "metadata": {},
   "outputs": [],
   "source": [
    "X = quotes_diff.copy().T\n",
    "X /= X.std(axis=0)"
   ]
  },
  {
   "cell_type": "markdown",
   "id": "f62df0fb",
   "metadata": {},
   "source": [
    "# Create a graph model "
   ]
  },
  {
   "cell_type": "code",
   "execution_count": null,
   "id": "0ffb6f25",
   "metadata": {},
   "outputs": [],
   "source": [
    "edge_model = covariance.GraphLassoCV()"
   ]
  },
  {
   "cell_type": "markdown",
   "id": "f4df957e",
   "metadata": {},
   "source": [
    "# Train the model"
   ]
  },
  {
   "cell_type": "code",
   "execution_count": null,
   "id": "8ebe523f",
   "metadata": {},
   "outputs": [],
   "source": [
    "with np.errstate(invalid='ignore'):\n",
    "    edge_model.fit(X)"
   ]
  },
  {
   "cell_type": "markdown",
   "id": "3bdc179d",
   "metadata": {},
   "source": [
    "# Build clustering model using Affinity Propagation model\n",
    "Build the affinity propagation clustering model using the edge model we just trained:"
   ]
  },
  {
   "cell_type": "code",
   "execution_count": null,
   "id": "825fbc7c",
   "metadata": {},
   "outputs": [],
   "source": [
    "_, labels = cluster.affinity_propagation(edge_model.covariance_)\n",
    "num_labels = labels.max()"
   ]
  },
  {
   "cell_type": "markdown",
   "id": "ac2e75dd",
   "metadata": {},
   "source": [
    "# Print the results of clustering"
   ]
  },
  {
   "cell_type": "code",
   "execution_count": null,
   "id": "01e06e7e",
   "metadata": {},
   "outputs": [],
   "source": [
    "print('\\nClustering of stocks based on difference in opening and closing quotes:\\n')\n",
    "for i in range(num_labels + 1):\n",
    "    print(\"Cluster\", i+1, \"==>\", ', '.join(names[labels == i]))"
   ]
  }
 ],
 "metadata": {
  "kernelspec": {
   "display_name": "venv",
   "language": "python",
   "name": "python3"
  },
  "language_info": {
   "codemirror_mode": {
    "name": "ipython",
    "version": 3
   },
   "file_extension": ".py",
   "mimetype": "text/x-python",
   "name": "python",
   "nbconvert_exporter": "python",
   "pygments_lexer": "ipython3",
   "version": "3.13.2"
  }
 },
 "nbformat": 4,
 "nbformat_minor": 5
}
